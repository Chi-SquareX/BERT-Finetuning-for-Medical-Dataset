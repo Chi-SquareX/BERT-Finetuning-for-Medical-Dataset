{
  "nbformat": 4,
  "nbformat_minor": 0,
  "metadata": {
    "colab": {
      "name": "GPT2_finetuned_smalldataset_2_classification.ipynb",
      "provenance": [],
      "collapsed_sections": [
        "x4SVftkkTZXA"
      ]
    },
    "kernelspec": {
      "name": "python3",
      "display_name": "Python 3"
    },
    "accelerator": "GPU"
  },
  "cells": [
    {
      "cell_type": "markdown",
      "metadata": {
        "id": "OFOTiqrtNvyy"
      },
      "source": [
        "# Install Transformers Library"
      ]
    },
    {
      "cell_type": "code",
      "metadata": {
        "id": "1hkhc10wNrGt",
        "colab": {
          "base_uri": "https://localhost:8080/"
        },
        "outputId": "74cd115b-646e-445d-fe38-65f5ce5f1321"
      },
      "source": [
        "!pip install transformers"
      ],
      "execution_count": 37,
      "outputs": [
        {
          "output_type": "stream",
          "name": "stdout",
          "text": [
            "Requirement already satisfied: transformers in /usr/local/lib/python3.7/dist-packages (4.11.3)\n",
            "Requirement already satisfied: requests in /usr/local/lib/python3.7/dist-packages (from transformers) (2.23.0)\n",
            "Requirement already satisfied: importlib-metadata in /usr/local/lib/python3.7/dist-packages (from transformers) (4.8.1)\n",
            "Requirement already satisfied: pyyaml>=5.1 in /usr/local/lib/python3.7/dist-packages (from transformers) (6.0)\n",
            "Requirement already satisfied: numpy>=1.17 in /usr/local/lib/python3.7/dist-packages (from transformers) (1.19.5)\n",
            "Requirement already satisfied: packaging>=20.0 in /usr/local/lib/python3.7/dist-packages (from transformers) (21.0)\n",
            "Requirement already satisfied: huggingface-hub>=0.0.17 in /usr/local/lib/python3.7/dist-packages (from transformers) (0.0.19)\n",
            "Requirement already satisfied: sacremoses in /usr/local/lib/python3.7/dist-packages (from transformers) (0.0.46)\n",
            "Requirement already satisfied: filelock in /usr/local/lib/python3.7/dist-packages (from transformers) (3.3.0)\n",
            "Requirement already satisfied: tokenizers<0.11,>=0.10.1 in /usr/local/lib/python3.7/dist-packages (from transformers) (0.10.3)\n",
            "Requirement already satisfied: tqdm>=4.27 in /usr/local/lib/python3.7/dist-packages (from transformers) (4.62.3)\n",
            "Requirement already satisfied: regex!=2019.12.17 in /usr/local/lib/python3.7/dist-packages (from transformers) (2019.12.20)\n",
            "Requirement already satisfied: typing-extensions in /usr/local/lib/python3.7/dist-packages (from huggingface-hub>=0.0.17->transformers) (3.7.4.3)\n",
            "Requirement already satisfied: pyparsing>=2.0.2 in /usr/local/lib/python3.7/dist-packages (from packaging>=20.0->transformers) (2.4.7)\n",
            "Requirement already satisfied: zipp>=0.5 in /usr/local/lib/python3.7/dist-packages (from importlib-metadata->transformers) (3.6.0)\n",
            "Requirement already satisfied: certifi>=2017.4.17 in /usr/local/lib/python3.7/dist-packages (from requests->transformers) (2021.5.30)\n",
            "Requirement already satisfied: chardet<4,>=3.0.2 in /usr/local/lib/python3.7/dist-packages (from requests->transformers) (3.0.4)\n",
            "Requirement already satisfied: idna<3,>=2.5 in /usr/local/lib/python3.7/dist-packages (from requests->transformers) (2.10)\n",
            "Requirement already satisfied: urllib3!=1.25.0,!=1.25.1,<1.26,>=1.21.1 in /usr/local/lib/python3.7/dist-packages (from requests->transformers) (1.24.3)\n",
            "Requirement already satisfied: click in /usr/local/lib/python3.7/dist-packages (from sacremoses->transformers) (7.1.2)\n",
            "Requirement already satisfied: joblib in /usr/local/lib/python3.7/dist-packages (from sacremoses->transformers) (1.0.1)\n",
            "Requirement already satisfied: six in /usr/local/lib/python3.7/dist-packages (from sacremoses->transformers) (1.15.0)\n"
          ]
        }
      ]
    },
    {
      "cell_type": "code",
      "metadata": {
        "id": "x4giRzM7NtHJ"
      },
      "source": [
        "import numpy as np\n",
        "import pandas as pd\n",
        "import torch\n",
        "import torch.nn as nn\n",
        "from sklearn.model_selection import train_test_split\n",
        "from sklearn.metrics import classification_report\n",
        "import transformers\n",
        "from transformers import GPT2ForSequenceClassification, GPT2TokenizerFast, GPT2Config\n",
        "\n",
        "\n",
        "# specify GPU\n",
        "device = torch.device(\"cuda\")"
      ],
      "execution_count": 38,
      "outputs": []
    },
    {
      "cell_type": "code",
      "metadata": {
        "id": "9Q9eeywYPJiM",
        "colab": {
          "base_uri": "https://localhost:8080/"
        },
        "outputId": "55b8410e-1644-4b06-f59b-c3feb64a817d"
      },
      "source": [
        "from google.colab import drive\n",
        "drive.mount(\"/content/gdrive\")"
      ],
      "execution_count": 39,
      "outputs": [
        {
          "output_type": "stream",
          "name": "stdout",
          "text": [
            "Drive already mounted at /content/gdrive; to attempt to forcibly remount, call drive.mount(\"/content/gdrive\", force_remount=True).\n"
          ]
        }
      ]
    },
    {
      "cell_type": "markdown",
      "metadata": {
        "id": "kKd-Tj3hOMsZ"
      },
      "source": [
        "# Load Dataset"
      ]
    },
    {
      "cell_type": "code",
      "metadata": {
        "id": "cwJrQFQgN_BE",
        "colab": {
          "base_uri": "https://localhost:8080/",
          "height": 206
        },
        "outputId": "db12f304-009d-45d0-cb34-7dbfcf7fbdb0"
      },
      "source": [
        "df = pd.read_excel(\"/content/gdrive/MyDrive/BERT fine tuning/Dataset/small_dataset2.xlsx\")\n",
        "df.head()"
      ],
      "execution_count": 40,
      "outputs": [
        {
          "output_type": "execute_result",
          "data": {
            "text/html": [
              "<div>\n",
              "<style scoped>\n",
              "    .dataframe tbody tr th:only-of-type {\n",
              "        vertical-align: middle;\n",
              "    }\n",
              "\n",
              "    .dataframe tbody tr th {\n",
              "        vertical-align: top;\n",
              "    }\n",
              "\n",
              "    .dataframe thead th {\n",
              "        text-align: right;\n",
              "    }\n",
              "</style>\n",
              "<table border=\"1\" class=\"dataframe\">\n",
              "  <thead>\n",
              "    <tr style=\"text-align: right;\">\n",
              "      <th></th>\n",
              "      <th>class</th>\n",
              "      <th>Symptom Severity</th>\n",
              "      <th>Delusion Score</th>\n",
              "      <th>Text</th>\n",
              "    </tr>\n",
              "  </thead>\n",
              "  <tbody>\n",
              "    <tr>\n",
              "      <th>0</th>\n",
              "      <td>control</td>\n",
              "      <td>0</td>\n",
              "      <td>0</td>\n",
              "      <td>When i was a little kid um i used to ride, um...</td>\n",
              "    </tr>\n",
              "    <tr>\n",
              "      <th>1</th>\n",
              "      <td>patient</td>\n",
              "      <td>69</td>\n",
              "      <td>24</td>\n",
              "      <td>Well, i was at um kings, xxx, one pacific tim...</td>\n",
              "    </tr>\n",
              "    <tr>\n",
              "      <th>2</th>\n",
              "      <td>patient</td>\n",
              "      <td>35</td>\n",
              "      <td>1</td>\n",
              "      <td>Um my ideal day would be being able to get to...</td>\n",
              "    </tr>\n",
              "    <tr>\n",
              "      <th>3</th>\n",
              "      <td>control</td>\n",
              "      <td>0</td>\n",
              "      <td>0</td>\n",
              "      <td>The perfect most ideal day for me would be um...</td>\n",
              "    </tr>\n",
              "    <tr>\n",
              "      <th>4</th>\n",
              "      <td>control</td>\n",
              "      <td>0</td>\n",
              "      <td>0</td>\n",
              "      <td>Xxx one morning i was working for westchester...</td>\n",
              "    </tr>\n",
              "  </tbody>\n",
              "</table>\n",
              "</div>"
            ],
            "text/plain": [
              "     class  ...                                               Text\n",
              "0  control  ...   When i was a little kid um i used to ride, um...\n",
              "1  patient  ...   Well, i was at um kings, xxx, one pacific tim...\n",
              "2  patient  ...   Um my ideal day would be being able to get to...\n",
              "3  control  ...   The perfect most ideal day for me would be um...\n",
              "4  control  ...   Xxx one morning i was working for westchester...\n",
              "\n",
              "[5 rows x 4 columns]"
            ]
          },
          "metadata": {},
          "execution_count": 40
        }
      ]
    },
    {
      "cell_type": "code",
      "metadata": {
        "id": "fzPPOrVQWiW5",
        "colab": {
          "base_uri": "https://localhost:8080/"
        },
        "outputId": "a82d5476-6bf1-446d-9885-ef80c1876626"
      },
      "source": [
        "df.shape"
      ],
      "execution_count": 41,
      "outputs": [
        {
          "output_type": "execute_result",
          "data": {
            "text/plain": [
              "(431, 4)"
            ]
          },
          "metadata": {},
          "execution_count": 41
        }
      ]
    },
    {
      "cell_type": "code",
      "metadata": {
        "id": "bcUsauuMClXl"
      },
      "source": [
        "df['class'] = df['class'].replace(['patient','control'],[0,1])"
      ],
      "execution_count": 42,
      "outputs": []
    },
    {
      "cell_type": "code",
      "metadata": {
        "id": "676DPU1BOPdp",
        "colab": {
          "base_uri": "https://localhost:8080/"
        },
        "outputId": "c711e1cf-8b72-4315-f7c7-5c8c67f54f33"
      },
      "source": [
        "# check class distribution\n",
        "df['class'].value_counts(normalize = True)"
      ],
      "execution_count": 43,
      "outputs": [
        {
          "output_type": "execute_result",
          "data": {
            "text/plain": [
              "1    0.545244\n",
              "0    0.454756\n",
              "Name: class, dtype: float64"
            ]
          },
          "metadata": {},
          "execution_count": 43
        }
      ]
    },
    {
      "cell_type": "markdown",
      "metadata": {
        "id": "MKfWnApvOoE7"
      },
      "source": [
        "# Split train dataset into train, validation and test sets"
      ]
    },
    {
      "cell_type": "code",
      "metadata": {
        "id": "mfhSPF5jOWb7"
      },
      "source": [
        "train_text, temp_text, train_labels, temp_labels = train_test_split(df['Text'].astype('str'), df['class'], \n",
        "                                                                    random_state=2018, \n",
        "                                                                    test_size=0.3, \n",
        "                                                                    stratify=df['class'])\n",
        "\n",
        "# we will use temp_text and temp_labels to create validation and test set\n",
        "val_text, test_text, val_labels, test_labels = train_test_split(temp_text, temp_labels, \n",
        "                                                                random_state=2018, \n",
        "                                                                test_size=0.5, \n",
        "                                                                stratify=temp_labels)"
      ],
      "execution_count": 44,
      "outputs": []
    },
    {
      "cell_type": "markdown",
      "metadata": {
        "id": "n7hsdLoCO7uB"
      },
      "source": [
        "# Import BERT Model and BERT Tokenizer"
      ]
    },
    {
      "cell_type": "code",
      "metadata": {
        "id": "S1kY3gZjO2RE",
        "colab": {
          "base_uri": "https://localhost:8080/"
        },
        "outputId": "160281c2-0814-4c3b-b230-398646b5f736"
      },
      "source": [
        "# Load the GPT tokenizer\n",
        "tokenizer = GPT2TokenizerFast.from_pretrained('gpt2')\n",
        "# import GPT pretrained model\n",
        "gpt_config = GPT2Config.from_pretrained('gpt2', num_classes=2, pad_token=tokenizer.eos_token, pad_token_id=tokenizer.eos_token_id)\n",
        "gpt = GPT2ForSequenceClassification.from_pretrained('gpt2', config=gpt_config)\n"
      ],
      "execution_count": 45,
      "outputs": [
        {
          "output_type": "stream",
          "name": "stderr",
          "text": [
            "Some weights of GPT2ForSequenceClassification were not initialized from the model checkpoint at gpt2 and are newly initialized: ['score.weight']\n",
            "You should probably TRAIN this model on a down-stream task to be able to use it for predictions and inference.\n"
          ]
        }
      ]
    },
    {
      "cell_type": "code",
      "metadata": {
        "id": "_zOKeOMeO-DT"
      },
      "source": [
        "# sample data\n",
        "text = [\"this is a bert model tutorial\", \"we will fine-tune a bert model\"]\n",
        "tokenizer.pad_token = tokenizer.eos_token\n",
        "# encode text\n",
        "sent_id = tokenizer.batch_encode_plus(text, padding=True, return_token_type_ids=False)"
      ],
      "execution_count": 46,
      "outputs": []
    },
    {
      "cell_type": "code",
      "metadata": {
        "id": "oAH73n39PHLw",
        "colab": {
          "base_uri": "https://localhost:8080/"
        },
        "outputId": "168f1479-2641-4615-ab73-493cd0f7b15f"
      },
      "source": [
        "# output\n",
        "print(sent_id)"
      ],
      "execution_count": 47,
      "outputs": [
        {
          "output_type": "stream",
          "name": "stdout",
          "text": [
            "{'input_ids': [[5661, 318, 257, 275, 861, 2746, 11808, 50256, 50256, 50256], [732, 481, 3734, 12, 83, 1726, 257, 275, 861, 2746]], 'attention_mask': [[1, 1, 1, 1, 1, 1, 1, 0, 0, 0], [1, 1, 1, 1, 1, 1, 1, 1, 1, 1]]}\n"
          ]
        }
      ]
    },
    {
      "cell_type": "markdown",
      "metadata": {
        "id": "8wIYaWI_Prg8"
      },
      "source": [
        "# Tokenization"
      ]
    },
    {
      "cell_type": "code",
      "metadata": {
        "id": "yKwbpeN_PMiu",
        "colab": {
          "base_uri": "https://localhost:8080/",
          "height": 282
        },
        "outputId": "4ab7bd87-6861-43cd-b906-53946d0ce199"
      },
      "source": [
        "# get length of all the messages in the train set\n",
        "seq_len = [len(i.split()) for i in train_text]\n",
        "\n",
        "pd.Series(seq_len).hist(bins = 30)"
      ],
      "execution_count": 48,
      "outputs": [
        {
          "output_type": "execute_result",
          "data": {
            "text/plain": [
              "<matplotlib.axes._subplots.AxesSubplot at 0x7f249039fd50>"
            ]
          },
          "metadata": {},
          "execution_count": 48
        },
        {
          "output_type": "display_data",
          "data": {
            "image/png": "[encoded data removed]",
            "text/plain": [
              "<Figure size 432x288 with 1 Axes>"
            ]
          },
          "metadata": {
            "needs_background": "light"
          }
        }
      ]
    },
    {
      "cell_type": "code",
      "metadata": {
        "id": "OXcswEIRPvGe"
      },
      "source": [
        "max_seq_len = 120"
      ],
      "execution_count": 49,
      "outputs": []
    },
    {
      "cell_type": "code",
      "metadata": {
        "id": "tk5S7DWaP2t6",
        "colab": {
          "base_uri": "https://localhost:8080/"
        },
        "outputId": "06858c5b-51d1-4ba9-808b-52e82b21755a"
      },
      "source": [
        "# tokenize and encode sequences in the training set\n",
        "tokens_train = tokenizer.batch_encode_plus(\n",
        "    train_text.tolist(),\n",
        "    max_length = max_seq_len,\n",
        "    pad_to_max_length=True,\n",
        "    truncation=True,\n",
        "    return_token_type_ids=False\n",
        ")\n",
        "\n",
        "# tokenize and encode sequences in the validation set\n",
        "tokens_val = tokenizer.batch_encode_plus(\n",
        "    val_text.tolist(),\n",
        "    max_length = max_seq_len,\n",
        "    pad_to_max_length=True,\n",
        "    truncation=True,\n",
        "    return_token_type_ids=False\n",
        ")\n",
        "\n",
        "# tokenize and encode sequences in the test set\n",
        "tokens_test = tokenizer.batch_encode_plus(\n",
        "    test_text.tolist(),\n",
        "    max_length = max_seq_len,\n",
        "    pad_to_max_length=True,\n",
        "    truncation=True,\n",
        "    return_token_type_ids=False\n",
        ")"
      ],
      "execution_count": 50,
      "outputs": [
        {
          "output_type": "stream",
          "name": "stderr",
          "text": [
            "/usr/local/lib/python3.7/dist-packages/transformers/tokenization_utils_base.py:2217: FutureWarning: The `pad_to_max_length` argument is deprecated and will be removed in a future version, use `padding=True` or `padding='longest'` to pad to the longest sequence in the batch, or use `padding='max_length'` to pad to a max length. In this case, you can give a specific length with `max_length` (e.g. `max_length=45`) or leave max_length to None to pad to the maximal input size of the model (e.g. 512 for Bert).\n",
            "  FutureWarning,\n"
          ]
        }
      ]
    },
    {
      "cell_type": "markdown",
      "metadata": {
        "id": "Wsm8bkRZQTw9"
      },
      "source": [
        "# Convert Integer Sequences to Tensors"
      ]
    },
    {
      "cell_type": "code",
      "metadata": {
        "id": "QR-lXwmzQPd6"
      },
      "source": [
        "# for train set\n",
        "train_seq = torch.tensor(tokens_train['input_ids'])\n",
        "train_mask = torch.tensor(tokens_train['attention_mask'])\n",
        "train_y = torch.tensor(train_labels.tolist(), dtype=torch.float32)\n",
        "\n",
        "# for validation set\n",
        "val_seq = torch.tensor(tokens_val['input_ids'])\n",
        "val_mask = torch.tensor(tokens_val['attention_mask'])\n",
        "val_y = torch.tensor(val_labels.tolist(), dtype=torch.float32)\n",
        "\n",
        "# for test set\n",
        "test_seq = torch.tensor(tokens_test['input_ids'])\n",
        "test_mask = torch.tensor(tokens_test['attention_mask'])\n",
        "test_y = torch.tensor(test_labels.tolist(), dtype=torch.float32)"
      ],
      "execution_count": 51,
      "outputs": []
    },
    {
      "cell_type": "markdown",
      "metadata": {
        "id": "Ov1cOBlcRLuk"
      },
      "source": [
        "# Create DataLoaders"
      ]
    },
    {
      "cell_type": "code",
      "metadata": {
        "id": "qUy9JKFYQYLp"
      },
      "source": [
        "from torch.utils.data import TensorDataset, DataLoader, RandomSampler, SequentialSampler\n",
        "\n",
        "#define a batch size\n",
        "batch_size = 32\n",
        "\n",
        "# wrap tensors\n",
        "train_data = TensorDataset(train_seq, train_mask, train_y)\n",
        "\n",
        "# sampler for sampling the data during training\n",
        "train_sampler = RandomSampler(train_data)\n",
        "\n",
        "# dataLoader for train set\n",
        "train_dataloader = DataLoader(train_data, sampler=train_sampler, batch_size=batch_size)\n",
        "\n",
        "# wrap tensors\n",
        "val_data = TensorDataset(val_seq, val_mask, val_y)\n",
        "\n",
        "# sampler for sampling the data during training\n",
        "val_sampler = SequentialSampler(val_data)\n",
        "\n",
        "# dataLoader for validation set\n",
        "val_dataloader = DataLoader(val_data, sampler = val_sampler, batch_size=batch_size)"
      ],
      "execution_count": 52,
      "outputs": []
    },
    {
      "cell_type": "markdown",
      "metadata": {
        "id": "K2HZc5ZYRV28"
      },
      "source": [
        "# Freeze BERT Parameters"
      ]
    },
    {
      "cell_type": "code",
      "metadata": {
        "id": "wHZ0MC00RQA_"
      },
      "source": [
        "# # freeze all the parameters\n",
        "# for name, param in gpt.named_parameters():\n",
        "#   param.requires_grad = False\n",
        "\n",
        "# freeze all the parameters\n",
        "for name, param in gpt.named_parameters():\n",
        "    if name in ['transformer.ln_f.weight', 'transformer.ln_f.bias', 'score.weight']:\n",
        "        param.requires_grad = True\n",
        "    else:\n",
        "        param.requires_grad = False"
      ],
      "execution_count": 53,
      "outputs": []
    },
    {
      "cell_type": "markdown",
      "metadata": {
        "id": "s7ahGBUWRi3X"
      },
      "source": [
        "# Define Model Architecture"
      ]
    },
    {
      "cell_type": "code",
      "metadata": {
        "id": "b3iEtGyYRd0A"
      },
      "source": [
        "class GPT_Arch(nn.Module):\n",
        "\n",
        "    def __init__(self, gpt):\n",
        "      \n",
        "      super(GPT_Arch, self).__init__()\n",
        "\n",
        "      self.gpt = gpt\n",
        "\n",
        "      self.softmax = nn.LogSoftmax(dim=1)\n",
        "\n",
        "    #define the forward pass\n",
        "    def forward(self, sent_id, mask):\n",
        "\n",
        "      #pass the inputs to the model  \n",
        "      x = self.gpt(input_ids=sent_id, attention_mask=mask)\n",
        "\n",
        "      return self.softmax(x[0])"
      ],
      "execution_count": 54,
      "outputs": []
    },
    {
      "cell_type": "code",
      "metadata": {
        "id": "cBAJJVuJRliv"
      },
      "source": [
        "# pass the pre-trained BERT to our define architecture\n",
        "model = GPT_Arch(gpt)\n",
        "\n",
        "# push the model to GPU\n",
        "model = model.to(device)"
      ],
      "execution_count": 55,
      "outputs": []
    },
    {
      "cell_type": "code",
      "metadata": {
        "id": "taXS0IilRn9J"
      },
      "source": [
        "# optimizer from hugging face transformers\n",
        "from transformers import AdamW\n",
        "\n",
        "# define the optimizer\n",
        "optimizer = AdamW(model.parameters(), lr = 5e-4)"
      ],
      "execution_count": 56,
      "outputs": []
    },
    {
      "cell_type": "markdown",
      "metadata": {
        "id": "j9CDpoMQR_rK"
      },
      "source": [
        "# Find Class Weights"
      ]
    },
    {
      "cell_type": "code",
      "metadata": {
        "id": "izY5xH5eR7Ur",
        "colab": {
          "base_uri": "https://localhost:8080/"
        },
        "outputId": "7e7a9a36-a85b-4e53-91f4-832d210067dc"
      },
      "source": [
        "from sklearn.utils.class_weight import compute_class_weight\n",
        "\n",
        "#compute the class weights\n",
        "class_wts = compute_class_weight('balanced', np.unique(train_labels), train_labels)\n",
        "\n",
        "print(class_wts)"
      ],
      "execution_count": 57,
      "outputs": [
        {
          "output_type": "stream",
          "name": "stdout",
          "text": [
            "[1.09854015 0.91768293]\n"
          ]
        }
      ]
    },
    {
      "cell_type": "code",
      "metadata": {
        "id": "zrhD866Gjsd6"
      },
      "source": [
        "# convert class weights to tensor\n",
        "weights= torch.tensor(class_wts,dtype=torch.float)\n",
        "weights = weights.to(device)\n",
        "\n",
        "# loss function\n",
        "cross_entropy  = nn.NLLLoss(weight=weights) \n",
        "\n",
        "# number of training epochs\n",
        "epochs = 40"
      ],
      "execution_count": 58,
      "outputs": []
    },
    {
      "cell_type": "markdown",
      "metadata": {
        "id": "My4CA0qaShLq"
      },
      "source": [
        "# Fine-Tune BERT"
      ]
    },
    {
      "cell_type": "code",
      "metadata": {
        "id": "rskLk8R_SahS"
      },
      "source": [
        "# function to train the model\n",
        "def train():\n",
        "  \n",
        "  model.train()\n",
        "\n",
        "  total_loss, total_accuracy = 0, 0\n",
        "  \n",
        "  # empty list to save model predictions\n",
        "  total_preds=[]\n",
        "  \n",
        "  # iterate over batches\n",
        "  for step,batch in enumerate(train_dataloader):\n",
        "    \n",
        "    # progress update after every 50 batches.\n",
        "    if step % 50 == 0 and not step == 0:\n",
        "      print('  Batch {:>5,}  of  {:>5,}.'.format(step, len(train_dataloader)))\n",
        "\n",
        "    # push the batch to gpu\n",
        "    batch = [r.to(device) for r in batch]\n",
        " \n",
        "    sent_id, mask, labels = batch\n",
        "\n",
        "    # clear previously calculated gradients \n",
        "    model.zero_grad()        \n",
        "\n",
        "    # get model predictions for the current batch\n",
        "    preds = model(sent_id, mask)\n",
        "    # compute the loss between actual and predicted values\n",
        "    loss = cross_entropy(preds, labels.long())\n",
        "\n",
        "    # add on to the total loss\n",
        "    total_loss = total_loss + loss.item()\n",
        "\n",
        "    # backward pass to calculate the gradients\n",
        "    loss.backward()\n",
        "\n",
        "    # clip the the gradients to 1.0. It helps in preventing the exploding gradient problem\n",
        "    torch.nn.utils.clip_grad_norm_(model.parameters(), 1.0)\n",
        "\n",
        "    # update parameters\n",
        "    optimizer.step()\n",
        "\n",
        "    # model predictions are stored on GPU. So, push it to CPU\n",
        "    preds=preds.detach().cpu().numpy()\n",
        "\n",
        "    # append the model predictions\n",
        "    total_preds.append(preds)\n",
        "\n",
        "  # compute the training loss of the epoch\n",
        "  avg_loss = total_loss / len(train_dataloader)\n",
        "  \n",
        "  # predictions are in the form of (no. of batches, size of batch, no. of classes).\n",
        "  # reshape the predictions in form of (number of samples, no. of classes)\n",
        "  total_preds  = np.concatenate(total_preds, axis=0)\n",
        "\n",
        "  #returns the loss and predictions\n",
        "  return avg_loss, total_preds"
      ],
      "execution_count": 59,
      "outputs": []
    },
    {
      "cell_type": "code",
      "metadata": {
        "id": "yGXovFDlSxB5"
      },
      "source": [
        "# function for evaluating the model\n",
        "def evaluate():\n",
        "  \n",
        "  print(\"\\nEvaluating...\")\n",
        "  \n",
        "  # deactivate dropout layers\n",
        "  model.eval()\n",
        "\n",
        "  total_loss, total_accuracy = 0, 0\n",
        "  \n",
        "  # empty list to save the model predictions\n",
        "  total_preds = []\n",
        "\n",
        "  # iterate over batches\n",
        "  for step,batch in enumerate(val_dataloader):\n",
        "    \n",
        "    # Progress update every 50 batches.\n",
        "    if step % 50 == 0 and not step == 0:\n",
        "      \n",
        "      # Calculate elapsed time in minutes.\n",
        "    #   elapsed = format_time(time.time() - t0)\n",
        "            \n",
        "      # Report progress.\n",
        "      print('  Batch {:>5,}  of  {:>5,}.'.format(step, len(val_dataloader)))\n",
        "\n",
        "    # push the batch to gpu\n",
        "    batch = [t.to(device) for t in batch]\n",
        "\n",
        "    sent_id, mask, labels = batch\n",
        "\n",
        "    # deactivate autograd\n",
        "    with torch.no_grad():\n",
        "      \n",
        "      # model predictions\n",
        "      preds = model(sent_id, mask)\n",
        "\n",
        "      # compute the validation loss between actual and predicted values\n",
        "      loss = cross_entropy(preds,labels.long())\n",
        "\n",
        "      total_loss = total_loss + loss.item()\n",
        "\n",
        "      preds = preds.detach().cpu().numpy()\n",
        "\n",
        "      total_preds.append(preds)\n",
        "\n",
        "  # compute the validation loss of the epoch\n",
        "  avg_loss = total_loss / len(val_dataloader) \n",
        "\n",
        "  # reshape the predictions in form of (number of samples, no. of classes)\n",
        "  total_preds  = np.concatenate(total_preds, axis=0)\n",
        "\n",
        "  return avg_loss, total_preds"
      ],
      "execution_count": 60,
      "outputs": []
    },
    {
      "cell_type": "markdown",
      "metadata": {
        "id": "9KZEgxRRTLXG"
      },
      "source": [
        "# Start Model Training"
      ]
    },
    {
      "cell_type": "code",
      "metadata": {
        "id": "k1USGTntS3TS",
        "colab": {
          "base_uri": "https://localhost:8080/"
        },
        "outputId": "98d8d712-c17a-4c68-b099-b9770e84287d"
      },
      "source": [
        "# set initial loss to infinite\n",
        "best_valid_loss = float('inf')\n",
        "\n",
        "# empty lists to store training and validation loss of each epoch\n",
        "train_losses=[]\n",
        "valid_losses=[]\n",
        "\n",
        "#for each epoch\n",
        "for epoch in range(epochs):\n",
        "     \n",
        "    print('\\n Epoch {:} / {:}'.format(epoch + 1, epochs))\n",
        "    \n",
        "    #train model\n",
        "    train_loss, _ = train()\n",
        "    \n",
        "    #evaluate model\n",
        "    valid_loss, _ = evaluate()\n",
        "    \n",
        "    #save the best model\n",
        "    if valid_loss < best_valid_loss:\n",
        "        best_valid_loss = valid_loss\n",
        "        torch.save(model.state_dict(), 'saved_weights.pt')\n",
        "    \n",
        "    # append training and validation loss\n",
        "    train_losses.append(train_loss)\n",
        "    valid_losses.append(valid_loss)\n",
        "    \n",
        "    print(f'\\nTraining Loss: {train_loss:.3f}')\n",
        "    print(f'Validation Loss: {valid_loss:.3f}')"
      ],
      "execution_count": 61,
      "outputs": [
        {
          "output_type": "stream",
          "name": "stdout",
          "text": [
            "\n",
            " Epoch 1 / 40\n",
            "\n",
            "Evaluating...\n",
            "\n",
            "Training Loss: 4.964\n",
            "Validation Loss: 4.191\n",
            "\n",
            " Epoch 2 / 40\n",
            "\n",
            "Evaluating...\n",
            "\n",
            "Training Loss: 2.104\n",
            "Validation Loss: 0.763\n",
            "\n",
            " Epoch 3 / 40\n",
            "\n",
            "Evaluating...\n",
            "\n",
            "Training Loss: 0.914\n",
            "Validation Loss: 0.648\n",
            "\n",
            " Epoch 4 / 40\n",
            "\n",
            "Evaluating...\n",
            "\n",
            "Training Loss: 0.866\n",
            "Validation Loss: 0.771\n",
            "\n",
            " Epoch 5 / 40\n",
            "\n",
            "Evaluating...\n",
            "\n",
            "Training Loss: 0.714\n",
            "Validation Loss: 0.635\n",
            "\n",
            " Epoch 6 / 40\n",
            "\n",
            "Evaluating...\n",
            "\n",
            "Training Loss: 0.672\n",
            "Validation Loss: 0.816\n",
            "\n",
            " Epoch 7 / 40\n",
            "\n",
            "Evaluating...\n",
            "\n",
            "Training Loss: 0.640\n",
            "Validation Loss: 0.712\n",
            "\n",
            " Epoch 8 / 40\n",
            "\n",
            "Evaluating...\n",
            "\n",
            "Training Loss: 0.620\n",
            "Validation Loss: 0.863\n",
            "\n",
            " Epoch 9 / 40\n",
            "\n",
            "Evaluating...\n",
            "\n",
            "Training Loss: 0.630\n",
            "Validation Loss: 0.757\n",
            "\n",
            " Epoch 10 / 40\n",
            "\n",
            "Evaluating...\n",
            "\n",
            "Training Loss: 0.576\n",
            "Validation Loss: 0.868\n",
            "\n",
            " Epoch 11 / 40\n",
            "\n",
            "Evaluating...\n",
            "\n",
            "Training Loss: 0.583\n",
            "Validation Loss: 0.772\n",
            "\n",
            " Epoch 12 / 40\n",
            "\n",
            "Evaluating...\n",
            "\n",
            "Training Loss: 0.565\n",
            "Validation Loss: 0.793\n",
            "\n",
            " Epoch 13 / 40\n",
            "\n",
            "Evaluating...\n",
            "\n",
            "Training Loss: 0.548\n",
            "Validation Loss: 0.848\n",
            "\n",
            " Epoch 14 / 40\n",
            "\n",
            "Evaluating...\n",
            "\n",
            "Training Loss: 0.560\n",
            "Validation Loss: 0.869\n",
            "\n",
            " Epoch 15 / 40\n",
            "\n",
            "Evaluating...\n",
            "\n",
            "Training Loss: 0.544\n",
            "Validation Loss: 0.856\n",
            "\n",
            " Epoch 16 / 40\n",
            "\n",
            "Evaluating...\n",
            "\n",
            "Training Loss: 0.526\n",
            "Validation Loss: 0.871\n",
            "\n",
            " Epoch 17 / 40\n",
            "\n",
            "Evaluating...\n",
            "\n",
            "Training Loss: 0.524\n",
            "Validation Loss: 0.937\n",
            "\n",
            " Epoch 18 / 40\n",
            "\n",
            "Evaluating...\n",
            "\n",
            "Training Loss: 0.503\n",
            "Validation Loss: 0.856\n",
            "\n",
            " Epoch 19 / 40\n",
            "\n",
            "Evaluating...\n",
            "\n",
            "Training Loss: 0.533\n",
            "Validation Loss: 0.811\n",
            "\n",
            " Epoch 20 / 40\n",
            "\n",
            "Evaluating...\n",
            "\n",
            "Training Loss: 0.521\n",
            "Validation Loss: 0.941\n",
            "\n",
            " Epoch 21 / 40\n",
            "\n",
            "Evaluating...\n",
            "\n",
            "Training Loss: 0.525\n",
            "Validation Loss: 0.847\n",
            "\n",
            " Epoch 22 / 40\n",
            "\n",
            "Evaluating...\n",
            "\n",
            "Training Loss: 0.518\n",
            "Validation Loss: 0.779\n",
            "\n",
            " Epoch 23 / 40\n",
            "\n",
            "Evaluating...\n",
            "\n",
            "Training Loss: 0.501\n",
            "Validation Loss: 0.830\n",
            "\n",
            " Epoch 24 / 40\n",
            "\n",
            "Evaluating...\n",
            "\n",
            "Training Loss: 0.510\n",
            "Validation Loss: 0.847\n",
            "\n",
            " Epoch 25 / 40\n",
            "\n",
            "Evaluating...\n",
            "\n",
            "Training Loss: 0.546\n",
            "Validation Loss: 0.876\n",
            "\n",
            " Epoch 26 / 40\n",
            "\n",
            "Evaluating...\n",
            "\n",
            "Training Loss: 0.500\n",
            "Validation Loss: 0.775\n",
            "\n",
            " Epoch 27 / 40\n",
            "\n",
            "Evaluating...\n",
            "\n",
            "Training Loss: 0.500\n",
            "Validation Loss: 0.916\n",
            "\n",
            " Epoch 28 / 40\n",
            "\n",
            "Evaluating...\n",
            "\n",
            "Training Loss: 0.501\n",
            "Validation Loss: 0.785\n",
            "\n",
            " Epoch 29 / 40\n",
            "\n",
            "Evaluating...\n",
            "\n",
            "Training Loss: 0.472\n",
            "Validation Loss: 0.885\n",
            "\n",
            " Epoch 30 / 40\n",
            "\n",
            "Evaluating...\n",
            "\n",
            "Training Loss: 0.460\n",
            "Validation Loss: 0.755\n",
            "\n",
            " Epoch 31 / 40\n",
            "\n",
            "Evaluating...\n",
            "\n",
            "Training Loss: 0.488\n",
            "Validation Loss: 0.882\n",
            "\n",
            " Epoch 32 / 40\n",
            "\n",
            "Evaluating...\n",
            "\n",
            "Training Loss: 0.491\n",
            "Validation Loss: 0.702\n",
            "\n",
            " Epoch 33 / 40\n",
            "\n",
            "Evaluating...\n",
            "\n",
            "Training Loss: 0.456\n",
            "Validation Loss: 0.901\n",
            "\n",
            " Epoch 34 / 40\n",
            "\n",
            "Evaluating...\n",
            "\n",
            "Training Loss: 0.462\n",
            "Validation Loss: 0.720\n",
            "\n",
            " Epoch 35 / 40\n",
            "\n",
            "Evaluating...\n",
            "\n",
            "Training Loss: 0.477\n",
            "Validation Loss: 0.999\n",
            "\n",
            " Epoch 36 / 40\n",
            "\n",
            "Evaluating...\n",
            "\n",
            "Training Loss: 0.459\n",
            "Validation Loss: 0.716\n",
            "\n",
            " Epoch 37 / 40\n",
            "\n",
            "Evaluating...\n",
            "\n",
            "Training Loss: 0.456\n",
            "Validation Loss: 0.840\n",
            "\n",
            " Epoch 38 / 40\n",
            "\n",
            "Evaluating...\n",
            "\n",
            "Training Loss: 0.477\n",
            "Validation Loss: 0.694\n",
            "\n",
            " Epoch 39 / 40\n",
            "\n",
            "Evaluating...\n",
            "\n",
            "Training Loss: 0.446\n",
            "Validation Loss: 0.938\n",
            "\n",
            " Epoch 40 / 40\n",
            "\n",
            "Evaluating...\n",
            "\n",
            "Training Loss: 0.454\n",
            "Validation Loss: 0.810\n"
          ]
        }
      ]
    },
    {
      "cell_type": "markdown",
      "metadata": {
        "id": "_yrhUc9kTI5a"
      },
      "source": [
        "# Load Saved Model"
      ]
    },
    {
      "cell_type": "code",
      "metadata": {
        "id": "OacxUyizS8d1",
        "colab": {
          "base_uri": "https://localhost:8080/"
        },
        "outputId": "571414f9-1595-4ab8-bc3e-1dc4a7c5078c"
      },
      "source": [
        "#load weights of best model\n",
        "path = 'saved_weights.pt'\n",
        "model.load_state_dict(torch.load(path))"
      ],
      "execution_count": 62,
      "outputs": [
        {
          "output_type": "execute_result",
          "data": {
            "text/plain": [
              "<All keys matched successfully>"
            ]
          },
          "metadata": {},
          "execution_count": 62
        }
      ]
    },
    {
      "cell_type": "markdown",
      "metadata": {
        "id": "x4SVftkkTZXA"
      },
      "source": [
        "## Get Predictions for Test Data"
      ]
    },
    {
      "cell_type": "code",
      "metadata": {
        "id": "NZl0SZmFTRQA"
      },
      "source": [
        "# get predictions for test data\n",
        "model.eval()\n",
        "with torch.no_grad():\n",
        "  preds = model(test_seq.to(device), test_mask.to(device))\n",
        "  preds = preds.detach().cpu().numpy()"
      ],
      "execution_count": 63,
      "outputs": []
    },
    {
      "cell_type": "code",
      "metadata": {
        "id": "YUKKznD4-O4z",
        "colab": {
          "base_uri": "https://localhost:8080/"
        },
        "outputId": "67d9ee90-1015-4ca6-ac19-28c89d387bee"
      },
      "source": [
        "preds"
      ],
      "execution_count": 64,
      "outputs": [
        {
          "output_type": "execute_result",
          "data": {
            "text/plain": [
              "array([[-0.29989222, -1.3505336 ],\n",
              "       [-1.477327  , -0.2590907 ],\n",
              "       [-1.0914407 , -0.4090703 ],\n",
              "       [-1.9261568 , -0.15748115],\n",
              "       [-0.6045    , -0.790424  ],\n",
              "       [-0.2527682 , -1.4990059 ],\n",
              "       [-0.8132309 , -0.5859499 ],\n",
              "       [-0.41618964, -1.0775024 ],\n",
              "       [-0.188175  , -1.7629955 ],\n",
              "       [-0.36856803, -1.1767603 ],\n",
              "       [-0.79721844, -0.59889305],\n",
              "       [-1.3270549 , -0.30823502],\n",
              "       [-0.6476703 , -0.74079114],\n",
              "       [-0.9612886 , -0.481914  ],\n",
              "       [-0.44877455, -1.0172445 ],\n",
              "       [-0.40642515, -1.0966948 ],\n",
              "       [-0.5155821 , -0.90919834],\n",
              "       [-0.9764785 , -0.47262317],\n",
              "       [-1.0045941 , -0.45601124],\n",
              "       [-0.33490372, -1.2566952 ],\n",
              "       [-0.39323717, -1.1235261 ],\n",
              "       [-0.65355414, -0.7343727 ],\n",
              "       [-0.77172387, -0.62029755],\n",
              "       [-0.84870505, -0.5585617 ],\n",
              "       [-0.49364728, -0.9426244 ],\n",
              "       [-0.8285919 , -0.5738786 ],\n",
              "       [-0.84173113, -0.56381124],\n",
              "       [-0.35590765, -1.2057656 ],\n",
              "       [-0.71109015, -0.6755206 ],\n",
              "       [-1.0704608 , -0.41984373],\n",
              "       [-0.49808323, -0.9357141 ],\n",
              "       [-0.37354043, -1.1656921 ],\n",
              "       [-0.47153348, -0.97828466],\n",
              "       [-0.31471893, -1.3093112 ],\n",
              "       [-0.52435887, -0.89632833],\n",
              "       [-1.4115067 , -0.27941734],\n",
              "       [-1.814899  , -0.1777572 ],\n",
              "       [-0.9057717 , -0.5179003 ],\n",
              "       [-0.5839307 , -0.8157713 ],\n",
              "       [-0.41218892, -1.085299  ],\n",
              "       [-0.63809377, -0.751409  ],\n",
              "       [-0.56885064, -0.8351159 ],\n",
              "       [-0.5290265 , -0.88959587],\n",
              "       [-0.80079913, -0.5959661 ],\n",
              "       [-0.5125178 , -0.9137578 ],\n",
              "       [-0.9468958 , -0.4909305 ],\n",
              "       [-0.54964787, -0.8607449 ],\n",
              "       [-0.4534105 , -1.0091114 ],\n",
              "       [-1.0613441 , -0.4246333 ],\n",
              "       [-0.8100285 , -0.58850867],\n",
              "       [-0.9716496 , -0.47555226],\n",
              "       [-0.83489347, -0.5690211 ],\n",
              "       [-0.48072714, -0.96320826],\n",
              "       [-0.5670264 , -0.83750176],\n",
              "       [-0.67339575, -0.71329665],\n",
              "       [-0.7479295 , -0.64121073],\n",
              "       [-0.74499536, -0.6438552 ],\n",
              "       [-0.6121446 , -0.7812941 ],\n",
              "       [-0.89384955, -0.52607113],\n",
              "       [-1.0888329 , -0.4103909 ],\n",
              "       [-0.3172281 , -1.3025587 ],\n",
              "       [-0.4227404 , -1.0649322 ],\n",
              "       [-0.62741065, -0.76351094],\n",
              "       [-1.0340569 , -0.4393759 ],\n",
              "       [-0.24531025, -1.5253808 ]], dtype=float32)"
            ]
          },
          "metadata": {},
          "execution_count": 64
        }
      ]
    },
    {
      "cell_type": "code",
      "metadata": {
        "id": "Ms1ObHZxTYSI",
        "colab": {
          "base_uri": "https://localhost:8080/"
        },
        "outputId": "6af7de82-6fbb-423e-9a1e-d1fae70008ff"
      },
      "source": [
        "# model's performance\n",
        "preds = np.argmax(preds, axis = 1)\n",
        "print(classification_report(test_y, preds))"
      ],
      "execution_count": 65,
      "outputs": [
        {
          "output_type": "stream",
          "name": "stdout",
          "text": [
            "              precision    recall  f1-score   support\n",
            "\n",
            "         0.0       0.50      0.60      0.55        30\n",
            "         1.0       0.59      0.49      0.53        35\n",
            "\n",
            "    accuracy                           0.54        65\n",
            "   macro avg       0.54      0.54      0.54        65\n",
            "weighted avg       0.55      0.54      0.54        65\n",
            "\n"
          ]
        }
      ]
    },
    {
      "cell_type": "code",
      "metadata": {
        "id": "YqzLS7rHTp4T",
        "colab": {
          "base_uri": "https://localhost:8080/",
          "height": 143
        },
        "outputId": "cc02f070-94a1-4406-f3cd-30243b70628d"
      },
      "source": [
        "# confusion matrix\n",
        "pd.crosstab(test_y, preds)"
      ],
      "execution_count": 66,
      "outputs": [
        {
          "output_type": "execute_result",
          "data": {
            "text/html": [
              "<div>\n",
              "<style scoped>\n",
              "    .dataframe tbody tr th:only-of-type {\n",
              "        vertical-align: middle;\n",
              "    }\n",
              "\n",
              "    .dataframe tbody tr th {\n",
              "        vertical-align: top;\n",
              "    }\n",
              "\n",
              "    .dataframe thead th {\n",
              "        text-align: right;\n",
              "    }\n",
              "</style>\n",
              "<table border=\"1\" class=\"dataframe\">\n",
              "  <thead>\n",
              "    <tr style=\"text-align: right;\">\n",
              "      <th>col_0</th>\n",
              "      <th>0</th>\n",
              "      <th>1</th>\n",
              "    </tr>\n",
              "    <tr>\n",
              "      <th>row_0</th>\n",
              "      <th></th>\n",
              "      <th></th>\n",
              "    </tr>\n",
              "  </thead>\n",
              "  <tbody>\n",
              "    <tr>\n",
              "      <th>0.0</th>\n",
              "      <td>18</td>\n",
              "      <td>12</td>\n",
              "    </tr>\n",
              "    <tr>\n",
              "      <th>1.0</th>\n",
              "      <td>18</td>\n",
              "      <td>17</td>\n",
              "    </tr>\n",
              "  </tbody>\n",
              "</table>\n",
              "</div>"
            ],
            "text/plain": [
              "col_0   0   1\n",
              "row_0        \n",
              "0.0    18  12\n",
              "1.0    18  17"
            ]
          },
          "metadata": {},
          "execution_count": 66
        }
      ]
    },
    {
      "cell_type": "code",
      "metadata": {
        "id": "jpX1uTwjUPY6"
      },
      "source": [
        ""
      ],
      "execution_count": 66,
      "outputs": []
    }
  ]
}