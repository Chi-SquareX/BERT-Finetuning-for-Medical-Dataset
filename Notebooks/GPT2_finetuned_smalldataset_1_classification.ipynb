{
  "nbformat": 4,
  "nbformat_minor": 0,
  "metadata": {
    "colab": {
      "name": "GPT2_finetuned_smalldataset_1_classification.ipynb",
      "provenance": [],
      "collapsed_sections": [
        "x4SVftkkTZXA"
      ]
    },
    "kernelspec": {
      "name": "python3",
      "display_name": "Python 3"
    },
    "accelerator": "GPU"
  },
  "cells": [
    {
      "cell_type": "markdown",
      "metadata": {
        "id": "OFOTiqrtNvyy"
      },
      "source": [
        "# Install Transformers Library"
      ]
    },
    {
      "cell_type": "code",
      "metadata": {
        "id": "1hkhc10wNrGt",
        "colab": {
          "base_uri": "https://localhost:8080/"
        },
        "outputId": "e265e5d9-bc84-4ed1-d956-ac3051033f9e"
      },
      "source": [
        "!pip install transformers"
      ],
      "execution_count": 26,
      "outputs": [
        {
          "output_type": "stream",
          "name": "stdout",
          "text": [
            "Requirement already satisfied: transformers in /usr/local/lib/python3.7/dist-packages (4.11.3)\n",
            "Requirement already satisfied: regex!=2019.12.17 in /usr/local/lib/python3.7/dist-packages (from transformers) (2019.12.20)\n",
            "Requirement already satisfied: requests in /usr/local/lib/python3.7/dist-packages (from transformers) (2.23.0)\n",
            "Requirement already satisfied: tqdm>=4.27 in /usr/local/lib/python3.7/dist-packages (from transformers) (4.62.3)\n",
            "Requirement already satisfied: filelock in /usr/local/lib/python3.7/dist-packages (from transformers) (3.3.0)\n",
            "Requirement already satisfied: pyyaml>=5.1 in /usr/local/lib/python3.7/dist-packages (from transformers) (6.0)\n",
            "Requirement already satisfied: tokenizers<0.11,>=0.10.1 in /usr/local/lib/python3.7/dist-packages (from transformers) (0.10.3)\n",
            "Requirement already satisfied: huggingface-hub>=0.0.17 in /usr/local/lib/python3.7/dist-packages (from transformers) (0.0.19)\n",
            "Requirement already satisfied: sacremoses in /usr/local/lib/python3.7/dist-packages (from transformers) (0.0.46)\n",
            "Requirement already satisfied: importlib-metadata in /usr/local/lib/python3.7/dist-packages (from transformers) (4.8.1)\n",
            "Requirement already satisfied: packaging>=20.0 in /usr/local/lib/python3.7/dist-packages (from transformers) (21.0)\n",
            "Requirement already satisfied: numpy>=1.17 in /usr/local/lib/python3.7/dist-packages (from transformers) (1.19.5)\n",
            "Requirement already satisfied: typing-extensions in /usr/local/lib/python3.7/dist-packages (from huggingface-hub>=0.0.17->transformers) (3.7.4.3)\n",
            "Requirement already satisfied: pyparsing>=2.0.2 in /usr/local/lib/python3.7/dist-packages (from packaging>=20.0->transformers) (2.4.7)\n",
            "Requirement already satisfied: zipp>=0.5 in /usr/local/lib/python3.7/dist-packages (from importlib-metadata->transformers) (3.6.0)\n",
            "Requirement already satisfied: certifi>=2017.4.17 in /usr/local/lib/python3.7/dist-packages (from requests->transformers) (2021.5.30)\n",
            "Requirement already satisfied: urllib3!=1.25.0,!=1.25.1,<1.26,>=1.21.1 in /usr/local/lib/python3.7/dist-packages (from requests->transformers) (1.24.3)\n",
            "Requirement already satisfied: idna<3,>=2.5 in /usr/local/lib/python3.7/dist-packages (from requests->transformers) (2.10)\n",
            "Requirement already satisfied: chardet<4,>=3.0.2 in /usr/local/lib/python3.7/dist-packages (from requests->transformers) (3.0.4)\n",
            "Requirement already satisfied: joblib in /usr/local/lib/python3.7/dist-packages (from sacremoses->transformers) (1.0.1)\n",
            "Requirement already satisfied: six in /usr/local/lib/python3.7/dist-packages (from sacremoses->transformers) (1.15.0)\n",
            "Requirement already satisfied: click in /usr/local/lib/python3.7/dist-packages (from sacremoses->transformers) (7.1.2)\n"
          ]
        }
      ]
    },
    {
      "cell_type": "code",
      "metadata": {
        "id": "x4giRzM7NtHJ"
      },
      "source": [
        "import numpy as np\n",
        "import pandas as pd\n",
        "import torch\n",
        "import torch.nn as nn\n",
        "from sklearn.model_selection import train_test_split\n",
        "from sklearn.metrics import classification_report\n",
        "import transformers\n",
        "from transformers import GPT2ForSequenceClassification, GPT2TokenizerFast, GPT2Config\n",
        "\n",
        "\n",
        "# specify GPU\n",
        "device = torch.device(\"cuda\")"
      ],
      "execution_count": 27,
      "outputs": []
    },
    {
      "cell_type": "code",
      "metadata": {
        "id": "9Q9eeywYPJiM",
        "colab": {
          "base_uri": "https://localhost:8080/"
        },
        "outputId": "9386854a-4c6e-4f11-d001-26668a4a2dc0"
      },
      "source": [
        "from google.colab import drive\n",
        "drive.mount(\"/content/gdrive\")"
      ],
      "execution_count": 28,
      "outputs": [
        {
          "output_type": "stream",
          "name": "stdout",
          "text": [
            "Drive already mounted at /content/gdrive; to attempt to forcibly remount, call drive.mount(\"/content/gdrive\", force_remount=True).\n"
          ]
        }
      ]
    },
    {
      "cell_type": "markdown",
      "metadata": {
        "id": "kKd-Tj3hOMsZ"
      },
      "source": [
        "# Load Dataset"
      ]
    },
    {
      "cell_type": "code",
      "metadata": {
        "id": "cwJrQFQgN_BE",
        "colab": {
          "base_uri": "https://localhost:8080/",
          "height": 206
        },
        "outputId": "490f5d70-3d06-4d41-cf7f-690a876c463f"
      },
      "source": [
        "df = pd.read_excel(\"/content/gdrive/MyDrive/BERT fine tuning/Dataset/small_dataset1.xlsx\")\n",
        "df.head()"
      ],
      "execution_count": 29,
      "outputs": [
        {
          "output_type": "execute_result",
          "data": {
            "text/html": [
              "<div>\n",
              "<style scoped>\n",
              "    .dataframe tbody tr th:only-of-type {\n",
              "        vertical-align: middle;\n",
              "    }\n",
              "\n",
              "    .dataframe tbody tr th {\n",
              "        vertical-align: top;\n",
              "    }\n",
              "\n",
              "    .dataframe thead th {\n",
              "        text-align: right;\n",
              "    }\n",
              "</style>\n",
              "<table border=\"1\" class=\"dataframe\">\n",
              "  <thead>\n",
              "    <tr style=\"text-align: right;\">\n",
              "      <th></th>\n",
              "      <th>class</th>\n",
              "      <th>Symptom Severity</th>\n",
              "      <th>Delusion Score</th>\n",
              "      <th>text</th>\n",
              "    </tr>\n",
              "  </thead>\n",
              "  <tbody>\n",
              "    <tr>\n",
              "      <th>0</th>\n",
              "      <td>patient</td>\n",
              "      <td>72</td>\n",
              "      <td>12</td>\n",
              "      <td>I would wake up greet my pet/friend use the ...</td>\n",
              "    </tr>\n",
              "    <tr>\n",
              "      <th>1</th>\n",
              "      <td>patient</td>\n",
              "      <td>92</td>\n",
              "      <td>22</td>\n",
              "      <td>On a average Sunday I wake up, brush my teet...</td>\n",
              "    </tr>\n",
              "    <tr>\n",
              "      <th>2</th>\n",
              "      <td>patient</td>\n",
              "      <td>64</td>\n",
              "      <td>4</td>\n",
              "      <td>Well This white lady moved in my hood an she...</td>\n",
              "    </tr>\n",
              "    <tr>\n",
              "      <th>3</th>\n",
              "      <td>control</td>\n",
              "      <td>0</td>\n",
              "      <td>0</td>\n",
              "      <td>sometimes when my family comes around and th...</td>\n",
              "    </tr>\n",
              "    <tr>\n",
              "      <th>4</th>\n",
              "      <td>patient</td>\n",
              "      <td>79</td>\n",
              "      <td>10</td>\n",
              "      <td>The thing that makes me the angriest is when...</td>\n",
              "    </tr>\n",
              "  </tbody>\n",
              "</table>\n",
              "</div>"
            ],
            "text/plain": [
              "     class  ...                                               text\n",
              "0  patient  ...    I would wake up greet my pet/friend use the ...\n",
              "1  patient  ...    On a average Sunday I wake up, brush my teet...\n",
              "2  patient  ...    Well This white lady moved in my hood an she...\n",
              "3  control  ...    sometimes when my family comes around and th...\n",
              "4  patient  ...    The thing that makes me the angriest is when...\n",
              "\n",
              "[5 rows x 4 columns]"
            ]
          },
          "metadata": {},
          "execution_count": 29
        }
      ]
    },
    {
      "cell_type": "code",
      "metadata": {
        "id": "fzPPOrVQWiW5",
        "colab": {
          "base_uri": "https://localhost:8080/"
        },
        "outputId": "f4d68ec3-7d41-4048-a432-acfbc22b3d71"
      },
      "source": [
        "df.shape"
      ],
      "execution_count": 30,
      "outputs": [
        {
          "output_type": "execute_result",
          "data": {
            "text/plain": [
              "(373, 4)"
            ]
          },
          "metadata": {},
          "execution_count": 30
        }
      ]
    },
    {
      "cell_type": "code",
      "metadata": {
        "id": "bcUsauuMClXl"
      },
      "source": [
        "df['class'] = df['class'].replace(['patient','control'],[0,1])"
      ],
      "execution_count": 31,
      "outputs": []
    },
    {
      "cell_type": "code",
      "metadata": {
        "id": "676DPU1BOPdp",
        "colab": {
          "base_uri": "https://localhost:8080/"
        },
        "outputId": "c191df3b-5f02-4d6c-e4ba-fafbef36de09"
      },
      "source": [
        "# check class distribution\n",
        "df['class'].value_counts(normalize = True)"
      ],
      "execution_count": 32,
      "outputs": [
        {
          "output_type": "execute_result",
          "data": {
            "text/plain": [
              "1    0.509383\n",
              "0    0.490617\n",
              "Name: class, dtype: float64"
            ]
          },
          "metadata": {},
          "execution_count": 32
        }
      ]
    },
    {
      "cell_type": "markdown",
      "metadata": {
        "id": "MKfWnApvOoE7"
      },
      "source": [
        "# Split train dataset into train, validation and test sets"
      ]
    },
    {
      "cell_type": "code",
      "metadata": {
        "id": "mfhSPF5jOWb7"
      },
      "source": [
        "train_text, temp_text, train_labels, temp_labels = train_test_split(df['text'].astype('str'), df['class'], \n",
        "                                                                    random_state=2018, \n",
        "                                                                    test_size=0.3, \n",
        "                                                                    stratify=df['class'])\n",
        "\n",
        "# we will use temp_text and temp_labels to create validation and test set\n",
        "val_text, test_text, val_labels, test_labels = train_test_split(temp_text, temp_labels, \n",
        "                                                                random_state=2018, \n",
        "                                                                test_size=0.5, \n",
        "                                                                stratify=temp_labels)"
      ],
      "execution_count": 33,
      "outputs": []
    },
    {
      "cell_type": "markdown",
      "metadata": {
        "id": "n7hsdLoCO7uB"
      },
      "source": [
        "# Import BERT Model and BERT Tokenizer"
      ]
    },
    {
      "cell_type": "code",
      "metadata": {
        "id": "S1kY3gZjO2RE",
        "colab": {
          "base_uri": "https://localhost:8080/"
        },
        "outputId": "950c5b09-6e0b-4d33-ce90-49522f8e1dda"
      },
      "source": [
        "# Load the GPT tokenizer\n",
        "tokenizer = GPT2TokenizerFast.from_pretrained('gpt2')\n",
        "# import GPT pretrained model\n",
        "gpt_config = GPT2Config.from_pretrained('gpt2', num_classes=2, pad_token=tokenizer.eos_token, pad_token_id=tokenizer.eos_token_id)\n",
        "gpt = GPT2ForSequenceClassification.from_pretrained('gpt2', config=gpt_config)\n"
      ],
      "execution_count": 34,
      "outputs": [
        {
          "output_type": "stream",
          "name": "stderr",
          "text": [
            "Some weights of GPT2ForSequenceClassification were not initialized from the model checkpoint at gpt2 and are newly initialized: ['score.weight']\n",
            "You should probably TRAIN this model on a down-stream task to be able to use it for predictions and inference.\n"
          ]
        }
      ]
    },
    {
      "cell_type": "code",
      "metadata": {
        "id": "_zOKeOMeO-DT"
      },
      "source": [
        "# sample data\n",
        "text = [\"this is a bert model tutorial\", \"we will fine-tune a bert model\"]\n",
        "tokenizer.pad_token = tokenizer.eos_token\n",
        "# encode text\n",
        "sent_id = tokenizer.batch_encode_plus(text, padding=True, return_token_type_ids=False)"
      ],
      "execution_count": 35,
      "outputs": []
    },
    {
      "cell_type": "code",
      "metadata": {
        "id": "oAH73n39PHLw",
        "colab": {
          "base_uri": "https://localhost:8080/"
        },
        "outputId": "dca8fa75-6628-404d-dac6-037564d2436f"
      },
      "source": [
        "# output\n",
        "print(sent_id)"
      ],
      "execution_count": 36,
      "outputs": [
        {
          "output_type": "stream",
          "name": "stdout",
          "text": [
            "{'input_ids': [[5661, 318, 257, 275, 861, 2746, 11808, 50256, 50256, 50256], [732, 481, 3734, 12, 83, 1726, 257, 275, 861, 2746]], 'attention_mask': [[1, 1, 1, 1, 1, 1, 1, 0, 0, 0], [1, 1, 1, 1, 1, 1, 1, 1, 1, 1]]}\n"
          ]
        }
      ]
    },
    {
      "cell_type": "markdown",
      "metadata": {
        "id": "8wIYaWI_Prg8"
      },
      "source": [
        "# Tokenization"
      ]
    },
    {
      "cell_type": "code",
      "metadata": {
        "id": "yKwbpeN_PMiu",
        "colab": {
          "base_uri": "https://localhost:8080/",
          "height": 283
        },
        "outputId": "34693739-55be-4e77-c180-a0585b136722"
      },
      "source": [
        "# get length of all the messages in the train set\n",
        "seq_len = [len(i.split()) for i in train_text]\n",
        "\n",
        "pd.Series(seq_len).hist(bins = 30)"
      ],
      "execution_count": 37,
      "outputs": [
        {
          "output_type": "execute_result",
          "data": {
            "text/plain": [
              "<matplotlib.axes._subplots.AxesSubplot at 0x7f698179dd90>"
            ]
          },
          "metadata": {},
          "execution_count": 37
        },
        {
          "output_type": "display_data",
          "data": {
            "image/png": "[encoded data removed]",
            "text/plain": [
              "<Figure size 432x288 with 1 Axes>"
            ]
          },
          "metadata": {
            "needs_background": "light"
          }
        }
      ]
    },
    {
      "cell_type": "code",
      "metadata": {
        "id": "OXcswEIRPvGe"
      },
      "source": [
        "max_seq_len = 120"
      ],
      "execution_count": 38,
      "outputs": []
    },
    {
      "cell_type": "code",
      "metadata": {
        "id": "tk5S7DWaP2t6",
        "colab": {
          "base_uri": "https://localhost:8080/"
        },
        "outputId": "d626f0c4-9c7c-4ec7-9135-81b4f9147257"
      },
      "source": [
        "# tokenize and encode sequences in the training set\n",
        "tokens_train = tokenizer.batch_encode_plus(\n",
        "    train_text.tolist(),\n",
        "    max_length = max_seq_len,\n",
        "    pad_to_max_length=True,\n",
        "    truncation=True,\n",
        "    return_token_type_ids=False\n",
        ")\n",
        "\n",
        "# tokenize and encode sequences in the validation set\n",
        "tokens_val = tokenizer.batch_encode_plus(\n",
        "    val_text.tolist(),\n",
        "    max_length = max_seq_len,\n",
        "    pad_to_max_length=True,\n",
        "    truncation=True,\n",
        "    return_token_type_ids=False\n",
        ")\n",
        "\n",
        "# tokenize and encode sequences in the test set\n",
        "tokens_test = tokenizer.batch_encode_plus(\n",
        "    test_text.tolist(),\n",
        "    max_length = max_seq_len,\n",
        "    pad_to_max_length=True,\n",
        "    truncation=True,\n",
        "    return_token_type_ids=False\n",
        ")"
      ],
      "execution_count": 39,
      "outputs": [
        {
          "output_type": "stream",
          "name": "stderr",
          "text": [
            "/usr/local/lib/python3.7/dist-packages/transformers/tokenization_utils_base.py:2217: FutureWarning: The `pad_to_max_length` argument is deprecated and will be removed in a future version, use `padding=True` or `padding='longest'` to pad to the longest sequence in the batch, or use `padding='max_length'` to pad to a max length. In this case, you can give a specific length with `max_length` (e.g. `max_length=45`) or leave max_length to None to pad to the maximal input size of the model (e.g. 512 for Bert).\n",
            "  FutureWarning,\n"
          ]
        }
      ]
    },
    {
      "cell_type": "markdown",
      "metadata": {
        "id": "Wsm8bkRZQTw9"
      },
      "source": [
        "# Convert Integer Sequences to Tensors"
      ]
    },
    {
      "cell_type": "code",
      "metadata": {
        "id": "QR-lXwmzQPd6"
      },
      "source": [
        "# for train set\n",
        "train_seq = torch.tensor(tokens_train['input_ids'])\n",
        "train_mask = torch.tensor(tokens_train['attention_mask'])\n",
        "train_y = torch.tensor(train_labels.tolist(), dtype=torch.float32)\n",
        "\n",
        "# for validation set\n",
        "val_seq = torch.tensor(tokens_val['input_ids'])\n",
        "val_mask = torch.tensor(tokens_val['attention_mask'])\n",
        "val_y = torch.tensor(val_labels.tolist(), dtype=torch.float32)\n",
        "\n",
        "# for test set\n",
        "test_seq = torch.tensor(tokens_test['input_ids'])\n",
        "test_mask = torch.tensor(tokens_test['attention_mask'])\n",
        "test_y = torch.tensor(test_labels.tolist(), dtype=torch.float32)"
      ],
      "execution_count": 40,
      "outputs": []
    },
    {
      "cell_type": "markdown",
      "metadata": {
        "id": "Ov1cOBlcRLuk"
      },
      "source": [
        "# Create DataLoaders"
      ]
    },
    {
      "cell_type": "code",
      "metadata": {
        "id": "qUy9JKFYQYLp"
      },
      "source": [
        "from torch.utils.data import TensorDataset, DataLoader, RandomSampler, SequentialSampler\n",
        "\n",
        "#define a batch size\n",
        "batch_size = 32\n",
        "\n",
        "# wrap tensors\n",
        "train_data = TensorDataset(train_seq, train_mask, train_y)\n",
        "\n",
        "# sampler for sampling the data during training\n",
        "train_sampler = RandomSampler(train_data)\n",
        "\n",
        "# dataLoader for train set\n",
        "train_dataloader = DataLoader(train_data, sampler=train_sampler, batch_size=batch_size)\n",
        "\n",
        "# wrap tensors\n",
        "val_data = TensorDataset(val_seq, val_mask, val_y)\n",
        "\n",
        "# sampler for sampling the data during training\n",
        "val_sampler = SequentialSampler(val_data)\n",
        "\n",
        "# dataLoader for validation set\n",
        "val_dataloader = DataLoader(val_data, sampler = val_sampler, batch_size=batch_size)"
      ],
      "execution_count": 41,
      "outputs": []
    },
    {
      "cell_type": "markdown",
      "metadata": {
        "id": "K2HZc5ZYRV28"
      },
      "source": [
        "# Freeze BERT Parameters"
      ]
    },
    {
      "cell_type": "code",
      "metadata": {
        "id": "wHZ0MC00RQA_"
      },
      "source": [
        "# # freeze all the parameters\n",
        "# for name, param in gpt.named_parameters():\n",
        "#   param.requires_grad = False\n",
        "\n",
        "# freeze all the parameters\n",
        "for name, param in gpt.named_parameters():\n",
        "    if name in ['transformer.ln_f.weight', 'transformer.ln_f.bias', 'score.weight']:\n",
        "        param.requires_grad = True\n",
        "    else:\n",
        "        param.requires_grad = False"
      ],
      "execution_count": 51,
      "outputs": []
    },
    {
      "cell_type": "markdown",
      "metadata": {
        "id": "s7ahGBUWRi3X"
      },
      "source": [
        "# Define Model Architecture"
      ]
    },
    {
      "cell_type": "code",
      "metadata": {
        "id": "b3iEtGyYRd0A"
      },
      "source": [
        "class GPT_Arch(nn.Module):\n",
        "\n",
        "    def __init__(self, gpt):\n",
        "      \n",
        "      super(GPT_Arch, self).__init__()\n",
        "\n",
        "      self.gpt = gpt\n",
        "\n",
        "      self.softmax = nn.LogSoftmax(dim=1)\n",
        "\n",
        "    #define the forward pass\n",
        "    def forward(self, sent_id, mask):\n",
        "\n",
        "      #pass the inputs to the model  \n",
        "      x = self.gpt(input_ids=sent_id, attention_mask=mask)\n",
        "\n",
        "      return self.softmax(x[0])"
      ],
      "execution_count": 52,
      "outputs": []
    },
    {
      "cell_type": "code",
      "metadata": {
        "id": "cBAJJVuJRliv"
      },
      "source": [
        "# pass the pre-trained BERT to our define architecture\n",
        "model = GPT_Arch(gpt)\n",
        "\n",
        "# push the model to GPU\n",
        "model = model.to(device)"
      ],
      "execution_count": 53,
      "outputs": []
    },
    {
      "cell_type": "code",
      "metadata": {
        "id": "taXS0IilRn9J"
      },
      "source": [
        "# optimizer from hugging face transformers\n",
        "from transformers import AdamW\n",
        "\n",
        "# define the optimizer\n",
        "optimizer = AdamW(model.parameters(), lr = 5e-3)"
      ],
      "execution_count": 54,
      "outputs": []
    },
    {
      "cell_type": "markdown",
      "metadata": {
        "id": "j9CDpoMQR_rK"
      },
      "source": [
        "# Find Class Weights"
      ]
    },
    {
      "cell_type": "code",
      "metadata": {
        "id": "izY5xH5eR7Ur",
        "colab": {
          "base_uri": "https://localhost:8080/"
        },
        "outputId": "be890f31-b54c-4906-e7f3-5e6859df652d"
      },
      "source": [
        "from sklearn.utils.class_weight import compute_class_weight\n",
        "\n",
        "#compute the class weights\n",
        "class_wts = compute_class_weight('balanced', np.unique(train_labels), train_labels)\n",
        "\n",
        "print(class_wts)"
      ],
      "execution_count": 55,
      "outputs": [
        {
          "output_type": "stream",
          "name": "stdout",
          "text": [
            "[1.01953125 0.98120301]\n"
          ]
        }
      ]
    },
    {
      "cell_type": "code",
      "metadata": {
        "id": "zrhD866Gjsd6"
      },
      "source": [
        "# convert class weights to tensor\n",
        "weights= torch.tensor(class_wts,dtype=torch.float)\n",
        "weights = weights.to(device)\n",
        "\n",
        "# loss function\n",
        "cross_entropy  = nn.NLLLoss(weight=weights) \n",
        "\n",
        "# number of training epochs\n",
        "epochs = 40"
      ],
      "execution_count": 56,
      "outputs": []
    },
    {
      "cell_type": "markdown",
      "metadata": {
        "id": "My4CA0qaShLq"
      },
      "source": [
        "# Fine-Tune BERT"
      ]
    },
    {
      "cell_type": "code",
      "metadata": {
        "id": "rskLk8R_SahS"
      },
      "source": [
        "# function to train the model\n",
        "def train():\n",
        "  \n",
        "  model.train()\n",
        "\n",
        "  total_loss, total_accuracy = 0, 0\n",
        "  \n",
        "  # empty list to save model predictions\n",
        "  total_preds=[]\n",
        "  \n",
        "  # iterate over batches\n",
        "  for step,batch in enumerate(train_dataloader):\n",
        "    \n",
        "    # progress update after every 50 batches.\n",
        "    if step % 50 == 0 and not step == 0:\n",
        "      print('  Batch {:>5,}  of  {:>5,}.'.format(step, len(train_dataloader)))\n",
        "\n",
        "    # push the batch to gpu\n",
        "    batch = [r.to(device) for r in batch]\n",
        " \n",
        "    sent_id, mask, labels = batch\n",
        "\n",
        "    # clear previously calculated gradients \n",
        "    model.zero_grad()        \n",
        "\n",
        "    # get model predictions for the current batch\n",
        "    preds = model(sent_id, mask)\n",
        "    # compute the loss between actual and predicted values\n",
        "    loss = cross_entropy(preds, labels.long())\n",
        "\n",
        "    # add on to the total loss\n",
        "    total_loss = total_loss + loss.item()\n",
        "\n",
        "    # backward pass to calculate the gradients\n",
        "    loss.backward()\n",
        "\n",
        "    # clip the the gradients to 1.0. It helps in preventing the exploding gradient problem\n",
        "    torch.nn.utils.clip_grad_norm_(model.parameters(), 1.0)\n",
        "\n",
        "    # update parameters\n",
        "    optimizer.step()\n",
        "\n",
        "    # model predictions are stored on GPU. So, push it to CPU\n",
        "    preds=preds.detach().cpu().numpy()\n",
        "\n",
        "    # append the model predictions\n",
        "    total_preds.append(preds)\n",
        "\n",
        "  # compute the training loss of the epoch\n",
        "  avg_loss = total_loss / len(train_dataloader)\n",
        "  \n",
        "  # predictions are in the form of (no. of batches, size of batch, no. of classes).\n",
        "  # reshape the predictions in form of (number of samples, no. of classes)\n",
        "  total_preds  = np.concatenate(total_preds, axis=0)\n",
        "\n",
        "  #returns the loss and predictions\n",
        "  return avg_loss, total_preds"
      ],
      "execution_count": 57,
      "outputs": []
    },
    {
      "cell_type": "code",
      "metadata": {
        "id": "yGXovFDlSxB5"
      },
      "source": [
        "# function for evaluating the model\n",
        "def evaluate():\n",
        "  \n",
        "  print(\"\\nEvaluating...\")\n",
        "  \n",
        "  # deactivate dropout layers\n",
        "  model.eval()\n",
        "\n",
        "  total_loss, total_accuracy = 0, 0\n",
        "  \n",
        "  # empty list to save the model predictions\n",
        "  total_preds = []\n",
        "\n",
        "  # iterate over batches\n",
        "  for step,batch in enumerate(val_dataloader):\n",
        "    \n",
        "    # Progress update every 50 batches.\n",
        "    if step % 50 == 0 and not step == 0:\n",
        "      \n",
        "      # Calculate elapsed time in minutes.\n",
        "    #   elapsed = format_time(time.time() - t0)\n",
        "            \n",
        "      # Report progress.\n",
        "      print('  Batch {:>5,}  of  {:>5,}.'.format(step, len(val_dataloader)))\n",
        "\n",
        "    # push the batch to gpu\n",
        "    batch = [t.to(device) for t in batch]\n",
        "\n",
        "    sent_id, mask, labels = batch\n",
        "\n",
        "    # deactivate autograd\n",
        "    with torch.no_grad():\n",
        "      \n",
        "      # model predictions\n",
        "      preds = model(sent_id, mask)\n",
        "\n",
        "      # compute the validation loss between actual and predicted values\n",
        "      loss = cross_entropy(preds,labels.long())\n",
        "\n",
        "      total_loss = total_loss + loss.item()\n",
        "\n",
        "      preds = preds.detach().cpu().numpy()\n",
        "\n",
        "      total_preds.append(preds)\n",
        "\n",
        "  # compute the validation loss of the epoch\n",
        "  avg_loss = total_loss / len(val_dataloader) \n",
        "\n",
        "  # reshape the predictions in form of (number of samples, no. of classes)\n",
        "  total_preds  = np.concatenate(total_preds, axis=0)\n",
        "\n",
        "  return avg_loss, total_preds"
      ],
      "execution_count": 58,
      "outputs": []
    },
    {
      "cell_type": "markdown",
      "metadata": {
        "id": "9KZEgxRRTLXG"
      },
      "source": [
        "# Start Model Training"
      ]
    },
    {
      "cell_type": "code",
      "metadata": {
        "id": "k1USGTntS3TS",
        "colab": {
          "base_uri": "https://localhost:8080/"
        },
        "outputId": "6a04813e-fe03-4c85-dcef-d4fd69880105"
      },
      "source": [
        "# set initial loss to infinite\n",
        "best_valid_loss = float('inf')\n",
        "\n",
        "# empty lists to store training and validation loss of each epoch\n",
        "train_losses=[]\n",
        "valid_losses=[]\n",
        "\n",
        "#for each epoch\n",
        "for epoch in range(epochs):\n",
        "     \n",
        "    print('\\n Epoch {:} / {:}'.format(epoch + 1, epochs))\n",
        "    \n",
        "    #train model\n",
        "    train_loss, _ = train()\n",
        "    \n",
        "    #evaluate model\n",
        "    valid_loss, _ = evaluate()\n",
        "    \n",
        "    #save the best model\n",
        "    if valid_loss < best_valid_loss:\n",
        "        best_valid_loss = valid_loss\n",
        "        torch.save(model.state_dict(), 'saved_weights.pt')\n",
        "    \n",
        "    # append training and validation loss\n",
        "    train_losses.append(train_loss)\n",
        "    valid_losses.append(valid_loss)\n",
        "    \n",
        "    print(f'\\nTraining Loss: {train_loss:.3f}')\n",
        "    print(f'Validation Loss: {valid_loss:.3f}')"
      ],
      "execution_count": 59,
      "outputs": [
        {
          "output_type": "stream",
          "name": "stdout",
          "text": [
            "\n",
            " Epoch 1 / 40\n",
            "\n",
            "Evaluating...\n",
            "\n",
            "Training Loss: 1.749\n",
            "Validation Loss: 1.181\n",
            "\n",
            " Epoch 2 / 40\n",
            "\n",
            "Evaluating...\n",
            "\n",
            "Training Loss: 0.836\n",
            "Validation Loss: 1.186\n",
            "\n",
            " Epoch 3 / 40\n",
            "\n",
            "Evaluating...\n",
            "\n",
            "Training Loss: 0.587\n",
            "Validation Loss: 0.852\n",
            "\n",
            " Epoch 4 / 40\n",
            "\n",
            "Evaluating...\n",
            "\n",
            "Training Loss: 0.459\n",
            "Validation Loss: 0.984\n",
            "\n",
            " Epoch 5 / 40\n",
            "\n",
            "Evaluating...\n",
            "\n",
            "Training Loss: 0.530\n",
            "Validation Loss: 0.926\n",
            "\n",
            " Epoch 6 / 40\n",
            "\n",
            "Evaluating...\n",
            "\n",
            "Training Loss: 0.383\n",
            "Validation Loss: 0.880\n",
            "\n",
            " Epoch 7 / 40\n",
            "\n",
            "Evaluating...\n",
            "\n",
            "Training Loss: 0.337\n",
            "Validation Loss: 0.848\n",
            "\n",
            " Epoch 8 / 40\n",
            "\n",
            "Evaluating...\n",
            "\n",
            "Training Loss: 0.258\n",
            "Validation Loss: 0.897\n",
            "\n",
            " Epoch 9 / 40\n",
            "\n",
            "Evaluating...\n",
            "\n",
            "Training Loss: 0.291\n",
            "Validation Loss: 0.956\n",
            "\n",
            " Epoch 10 / 40\n",
            "\n",
            "Evaluating...\n",
            "\n",
            "Training Loss: 0.298\n",
            "Validation Loss: 1.086\n",
            "\n",
            " Epoch 11 / 40\n",
            "\n",
            "Evaluating...\n",
            "\n",
            "Training Loss: 0.245\n",
            "Validation Loss: 1.308\n",
            "\n",
            " Epoch 12 / 40\n",
            "\n",
            "Evaluating...\n",
            "\n",
            "Training Loss: 0.256\n",
            "Validation Loss: 1.028\n",
            "\n",
            " Epoch 13 / 40\n",
            "\n",
            "Evaluating...\n",
            "\n",
            "Training Loss: 0.179\n",
            "Validation Loss: 1.093\n",
            "\n",
            " Epoch 14 / 40\n",
            "\n",
            "Evaluating...\n",
            "\n",
            "Training Loss: 0.166\n",
            "Validation Loss: 1.116\n",
            "\n",
            " Epoch 15 / 40\n",
            "\n",
            "Evaluating...\n",
            "\n",
            "Training Loss: 0.242\n",
            "Validation Loss: 1.385\n",
            "\n",
            " Epoch 16 / 40\n",
            "\n",
            "Evaluating...\n",
            "\n",
            "Training Loss: 0.196\n",
            "Validation Loss: 1.129\n",
            "\n",
            " Epoch 17 / 40\n",
            "\n",
            "Evaluating...\n",
            "\n",
            "Training Loss: 0.149\n",
            "Validation Loss: 1.090\n",
            "\n",
            " Epoch 18 / 40\n",
            "\n",
            "Evaluating...\n",
            "\n",
            "Training Loss: 0.140\n",
            "Validation Loss: 1.214\n",
            "\n",
            " Epoch 19 / 40\n",
            "\n",
            "Evaluating...\n",
            "\n",
            "Training Loss: 0.203\n",
            "Validation Loss: 1.149\n",
            "\n",
            " Epoch 20 / 40\n",
            "\n",
            "Evaluating...\n",
            "\n",
            "Training Loss: 0.271\n",
            "Validation Loss: 2.112\n",
            "\n",
            " Epoch 21 / 40\n",
            "\n",
            "Evaluating...\n",
            "\n",
            "Training Loss: 0.437\n",
            "Validation Loss: 1.745\n",
            "\n",
            " Epoch 22 / 40\n",
            "\n",
            "Evaluating...\n",
            "\n",
            "Training Loss: 0.271\n",
            "Validation Loss: 1.316\n",
            "\n",
            " Epoch 23 / 40\n",
            "\n",
            "Evaluating...\n",
            "\n",
            "Training Loss: 0.126\n",
            "Validation Loss: 1.236\n",
            "\n",
            " Epoch 24 / 40\n",
            "\n",
            "Evaluating...\n",
            "\n",
            "Training Loss: 0.128\n",
            "Validation Loss: 1.351\n",
            "\n",
            " Epoch 25 / 40\n",
            "\n",
            "Evaluating...\n",
            "\n",
            "Training Loss: 0.171\n",
            "Validation Loss: 1.591\n",
            "\n",
            " Epoch 26 / 40\n",
            "\n",
            "Evaluating...\n",
            "\n",
            "Training Loss: 0.126\n",
            "Validation Loss: 1.576\n",
            "\n",
            " Epoch 27 / 40\n",
            "\n",
            "Evaluating...\n",
            "\n",
            "Training Loss: 0.175\n",
            "Validation Loss: 1.393\n",
            "\n",
            " Epoch 28 / 40\n",
            "\n",
            "Evaluating...\n",
            "\n",
            "Training Loss: 0.127\n",
            "Validation Loss: 1.473\n",
            "\n",
            " Epoch 29 / 40\n",
            "\n",
            "Evaluating...\n",
            "\n",
            "Training Loss: 0.104\n",
            "Validation Loss: 1.793\n",
            "\n",
            " Epoch 30 / 40\n",
            "\n",
            "Evaluating...\n",
            "\n",
            "Training Loss: 0.350\n",
            "Validation Loss: 1.475\n",
            "\n",
            " Epoch 31 / 40\n",
            "\n",
            "Evaluating...\n",
            "\n",
            "Training Loss: 0.140\n",
            "Validation Loss: 1.471\n",
            "\n",
            " Epoch 32 / 40\n",
            "\n",
            "Evaluating...\n",
            "\n",
            "Training Loss: 0.210\n",
            "Validation Loss: 1.713\n",
            "\n",
            " Epoch 33 / 40\n",
            "\n",
            "Evaluating...\n",
            "\n",
            "Training Loss: 0.124\n",
            "Validation Loss: 1.716\n",
            "\n",
            " Epoch 34 / 40\n",
            "\n",
            "Evaluating...\n",
            "\n",
            "Training Loss: 0.179\n",
            "Validation Loss: 1.899\n",
            "\n",
            " Epoch 35 / 40\n",
            "\n",
            "Evaluating...\n",
            "\n",
            "Training Loss: 0.185\n",
            "Validation Loss: 1.919\n",
            "\n",
            " Epoch 36 / 40\n",
            "\n",
            "Evaluating...\n",
            "\n",
            "Training Loss: 0.214\n",
            "Validation Loss: 1.686\n",
            "\n",
            " Epoch 37 / 40\n",
            "\n",
            "Evaluating...\n",
            "\n",
            "Training Loss: 0.184\n",
            "Validation Loss: 1.532\n",
            "\n",
            " Epoch 38 / 40\n",
            "\n",
            "Evaluating...\n",
            "\n",
            "Training Loss: 0.068\n",
            "Validation Loss: 2.163\n",
            "\n",
            " Epoch 39 / 40\n",
            "\n",
            "Evaluating...\n",
            "\n",
            "Training Loss: 0.192\n",
            "Validation Loss: 1.647\n",
            "\n",
            " Epoch 40 / 40\n",
            "\n",
            "Evaluating...\n",
            "\n",
            "Training Loss: 0.144\n",
            "Validation Loss: 1.635\n"
          ]
        }
      ]
    },
    {
      "cell_type": "markdown",
      "metadata": {
        "id": "_yrhUc9kTI5a"
      },
      "source": [
        "# Load Saved Model"
      ]
    },
    {
      "cell_type": "code",
      "metadata": {
        "id": "OacxUyizS8d1",
        "colab": {
          "base_uri": "https://localhost:8080/"
        },
        "outputId": "af11ccfd-c3cb-4e9f-b37f-27b8a270291f"
      },
      "source": [
        "#load weights of best model\n",
        "path = 'saved_weights.pt'\n",
        "model.load_state_dict(torch.load(path))"
      ],
      "execution_count": 60,
      "outputs": [
        {
          "output_type": "execute_result",
          "data": {
            "text/plain": [
              "<All keys matched successfully>"
            ]
          },
          "metadata": {},
          "execution_count": 60
        }
      ]
    },
    {
      "cell_type": "markdown",
      "metadata": {
        "id": "x4SVftkkTZXA"
      },
      "source": [
        "## Get Predictions for Test Data"
      ]
    },
    {
      "cell_type": "code",
      "metadata": {
        "id": "NZl0SZmFTRQA"
      },
      "source": [
        "# get predictions for test data\n",
        "model.eval()\n",
        "with torch.no_grad():\n",
        "  preds = model(test_seq.to(device), test_mask.to(device))\n",
        "  preds = preds.detach().cpu().numpy()"
      ],
      "execution_count": 61,
      "outputs": []
    },
    {
      "cell_type": "code",
      "metadata": {
        "id": "YUKKznD4-O4z",
        "colab": {
          "base_uri": "https://localhost:8080/"
        },
        "outputId": "7c83c65c-4903-45e3-c932-bf5f8805db29"
      },
      "source": [
        "preds"
      ],
      "execution_count": 62,
      "outputs": [
        {
          "output_type": "execute_result",
          "data": {
            "text/plain": [
              "array([[-2.2795482e+00, -1.0795326e-01],\n",
              "       [-2.7615976e-02, -3.6031370e+00],\n",
              "       [-2.5244982e+00, -8.3488621e-02],\n",
              "       [-5.3909695e-01, -8.7532818e-01],\n",
              "       [-6.3909674e-03, -5.0560608e+00],\n",
              "       [-1.1067431e-02, -4.5092797e+00],\n",
              "       [-7.9217207e-01, -6.0305071e-01],\n",
              "       [-3.2856088e+00, -3.8135856e-02],\n",
              "       [-4.4793248e-01, -1.0187329e+00],\n",
              "       [-1.9526169e-02, -3.9457471e+00],\n",
              "       [-6.8576694e-03, -4.9858074e+00],\n",
              "       [-1.0733106e+00, -4.1836017e-01],\n",
              "       [-3.4870937e+00, -3.1067312e-02],\n",
              "       [-1.4705849e+00, -2.6109338e-01],\n",
              "       [-2.6044950e+00, -7.6816805e-02],\n",
              "       [-3.1983942e-01, -1.2955971e+00],\n",
              "       [-1.5100008e+00, -2.4962839e-01],\n",
              "       [-2.5762424e+00, -7.9107299e-02],\n",
              "       [-3.2762208e-03, -5.7227087e+00],\n",
              "       [-1.3399045e+00, -3.0363613e-01],\n",
              "       [-3.9459205e+00, -1.9522779e-02],\n",
              "       [-4.1052195e-01, -1.0885746e+00],\n",
              "       [-9.6657872e-02, -2.3845177e+00],\n",
              "       [-2.9440241e+00, -5.4090284e-02],\n",
              "       [-2.7255269e-02, -3.6161058e+00],\n",
              "       [-7.3915994e-01, -6.4915895e-01],\n",
              "       [-2.7236086e-01, -1.4337187e+00],\n",
              "       [-2.3423913e+00, -1.0103382e-01],\n",
              "       [-1.9058597e+00, -1.6098450e-01],\n",
              "       [-3.7149124e+00, -2.4659093e-02],\n",
              "       [-9.1349985e-03, -4.7002063e+00],\n",
              "       [-5.2047453e+00, -5.5055181e-03],\n",
              "       [-4.6644098e-01, -9.8679525e-01],\n",
              "       [-2.7239510e-01, -1.4336095e+00],\n",
              "       [-2.0255330e+00, -1.4147551e-01],\n",
              "       [-4.7306004e+00, -8.8603199e-03],\n",
              "       [-2.2230043e+00, -1.1460682e-01],\n",
              "       [-1.9599888e+00, -1.5182346e-01],\n",
              "       [-1.4700059e+00, -2.6126626e-01],\n",
              "       [-1.8227848e-01, -1.7919749e+00],\n",
              "       [-1.7382827e+00, -1.9336887e-01],\n",
              "       [-3.5220199e+00, -2.9984828e-02],\n",
              "       [-6.6634297e-01, -7.2068977e-01],\n",
              "       [-1.7949995e-02, -4.0291266e+00],\n",
              "       [-7.2569120e-01, -6.6162908e-01],\n",
              "       [-2.9100654e-01, -1.3763868e+00],\n",
              "       [-5.2809261e-02, -2.9673567e+00],\n",
              "       [-1.4374222e-01, -2.0107439e+00],\n",
              "       [-8.4976655e-01, -5.5776817e-01],\n",
              "       [-1.4374222e-01, -2.0107439e+00],\n",
              "       [-2.5423080e-01, -1.4939365e+00],\n",
              "       [-8.2976129e-03, -4.7959285e+00],\n",
              "       [-1.8919631e+00, -1.6343172e-01],\n",
              "       [-4.7376752e-01, -9.7458744e-01],\n",
              "       [-1.3828080e+00, -2.8884685e-01],\n",
              "       [-1.4245133e+00, -2.7526021e-01]], dtype=float32)"
            ]
          },
          "metadata": {},
          "execution_count": 62
        }
      ]
    },
    {
      "cell_type": "code",
      "metadata": {
        "id": "Ms1ObHZxTYSI",
        "colab": {
          "base_uri": "https://localhost:8080/"
        },
        "outputId": "38656370-9a03-443f-807a-35f2976c0fee"
      },
      "source": [
        "# model's performance\n",
        "preds = np.argmax(preds, axis = 1)\n",
        "print(classification_report(test_y, preds))"
      ],
      "execution_count": 63,
      "outputs": [
        {
          "output_type": "stream",
          "name": "stdout",
          "text": [
            "              precision    recall  f1-score   support\n",
            "\n",
            "         0.0       0.77      0.71      0.74        28\n",
            "         1.0       0.73      0.79      0.76        28\n",
            "\n",
            "    accuracy                           0.75        56\n",
            "   macro avg       0.75      0.75      0.75        56\n",
            "weighted avg       0.75      0.75      0.75        56\n",
            "\n"
          ]
        }
      ]
    },
    {
      "cell_type": "code",
      "metadata": {
        "id": "YqzLS7rHTp4T",
        "colab": {
          "base_uri": "https://localhost:8080/",
          "height": 143
        },
        "outputId": "d5e28304-c55f-48ca-f66c-cb710dfa4eda"
      },
      "source": [
        "# confusion matrix\n",
        "pd.crosstab(test_y, preds)"
      ],
      "execution_count": 64,
      "outputs": [
        {
          "output_type": "execute_result",
          "data": {
            "text/html": [
              "<div>\n",
              "<style scoped>\n",
              "    .dataframe tbody tr th:only-of-type {\n",
              "        vertical-align: middle;\n",
              "    }\n",
              "\n",
              "    .dataframe tbody tr th {\n",
              "        vertical-align: top;\n",
              "    }\n",
              "\n",
              "    .dataframe thead th {\n",
              "        text-align: right;\n",
              "    }\n",
              "</style>\n",
              "<table border=\"1\" class=\"dataframe\">\n",
              "  <thead>\n",
              "    <tr style=\"text-align: right;\">\n",
              "      <th>col_0</th>\n",
              "      <th>0</th>\n",
              "      <th>1</th>\n",
              "    </tr>\n",
              "    <tr>\n",
              "      <th>row_0</th>\n",
              "      <th></th>\n",
              "      <th></th>\n",
              "    </tr>\n",
              "  </thead>\n",
              "  <tbody>\n",
              "    <tr>\n",
              "      <th>0.0</th>\n",
              "      <td>20</td>\n",
              "      <td>8</td>\n",
              "    </tr>\n",
              "    <tr>\n",
              "      <th>1.0</th>\n",
              "      <td>6</td>\n",
              "      <td>22</td>\n",
              "    </tr>\n",
              "  </tbody>\n",
              "</table>\n",
              "</div>"
            ],
            "text/plain": [
              "col_0   0   1\n",
              "row_0        \n",
              "0.0    20   8\n",
              "1.0     6  22"
            ]
          },
          "metadata": {},
          "execution_count": 64
        }
      ]
    },
    {
      "cell_type": "code",
      "metadata": {
        "id": "jpX1uTwjUPY6"
      },
      "source": [
        ""
      ],
      "execution_count": 64,
      "outputs": []
    }
  ]
}