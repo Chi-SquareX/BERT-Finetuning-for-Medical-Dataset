{
  "nbformat": 4,
  "nbformat_minor": 0,
  "metadata": {
    "colab": {
      "name": "zpatientsGPT2_finetuned_smalldataset_1_classification.ipynb",
      "provenance": [],
      "collapsed_sections": [
        "x4SVftkkTZXA"
      ]
    },
    "kernelspec": {
      "name": "python3",
      "display_name": "Python 3"
    },
    "accelerator": "GPU"
  },
  "cells": [
    {
      "cell_type": "markdown",
      "metadata": {
        "id": "OFOTiqrtNvyy"
      },
      "source": [
        "# Install Transformers Library"
      ]
    },
    {
      "cell_type": "code",
      "metadata": {
        "id": "1hkhc10wNrGt",
        "colab": {
          "base_uri": "https://localhost:8080/"
        },
        "outputId": "bbe82234-d8a8-4fc7-9133-41f5063aa860"
      },
      "source": [
        "!pip install transformers"
      ],
      "execution_count": 1,
      "outputs": [
        {
          "output_type": "stream",
          "name": "stdout",
          "text": [
            "Collecting transformers\n",
            "  Downloading transformers-4.11.3-py3-none-any.whl (2.9 MB)\n",
            "\u001b[K     |████████████████████████████████| 2.9 MB 13.3 MB/s \n",
            "\u001b[?25hCollecting pyyaml>=5.1\n",
            "  Downloading PyYAML-6.0-cp37-cp37m-manylinux_2_5_x86_64.manylinux1_x86_64.manylinux_2_12_x86_64.manylinux2010_x86_64.whl (596 kB)\n",
            "\u001b[K     |████████████████████████████████| 596 kB 50.7 MB/s \n",
            "\u001b[?25hCollecting tokenizers<0.11,>=0.10.1\n",
            "  Downloading tokenizers-0.10.3-cp37-cp37m-manylinux_2_5_x86_64.manylinux1_x86_64.manylinux_2_12_x86_64.manylinux2010_x86_64.whl (3.3 MB)\n",
            "\u001b[K     |████████████████████████████████| 3.3 MB 40.2 MB/s \n",
            "\u001b[?25hRequirement already satisfied: filelock in /usr/local/lib/python3.7/dist-packages (from transformers) (3.3.0)\n",
            "Requirement already satisfied: numpy>=1.17 in /usr/local/lib/python3.7/dist-packages (from transformers) (1.19.5)\n",
            "Collecting huggingface-hub>=0.0.17\n",
            "  Downloading huggingface_hub-0.0.19-py3-none-any.whl (56 kB)\n",
            "\u001b[K     |████████████████████████████████| 56 kB 5.0 MB/s \n",
            "\u001b[?25hRequirement already satisfied: requests in /usr/local/lib/python3.7/dist-packages (from transformers) (2.23.0)\n",
            "Collecting sacremoses\n",
            "  Downloading sacremoses-0.0.46-py3-none-any.whl (895 kB)\n",
            "\u001b[K     |████████████████████████████████| 895 kB 46.9 MB/s \n",
            "\u001b[?25hRequirement already satisfied: tqdm>=4.27 in /usr/local/lib/python3.7/dist-packages (from transformers) (4.62.3)\n",
            "Requirement already satisfied: packaging>=20.0 in /usr/local/lib/python3.7/dist-packages (from transformers) (21.0)\n",
            "Requirement already satisfied: importlib-metadata in /usr/local/lib/python3.7/dist-packages (from transformers) (4.8.1)\n",
            "Requirement already satisfied: regex!=2019.12.17 in /usr/local/lib/python3.7/dist-packages (from transformers) (2019.12.20)\n",
            "Requirement already satisfied: typing-extensions in /usr/local/lib/python3.7/dist-packages (from huggingface-hub>=0.0.17->transformers) (3.7.4.3)\n",
            "Requirement already satisfied: pyparsing>=2.0.2 in /usr/local/lib/python3.7/dist-packages (from packaging>=20.0->transformers) (2.4.7)\n",
            "Requirement already satisfied: zipp>=0.5 in /usr/local/lib/python3.7/dist-packages (from importlib-metadata->transformers) (3.6.0)\n",
            "Requirement already satisfied: urllib3!=1.25.0,!=1.25.1,<1.26,>=1.21.1 in /usr/local/lib/python3.7/dist-packages (from requests->transformers) (1.24.3)\n",
            "Requirement already satisfied: certifi>=2017.4.17 in /usr/local/lib/python3.7/dist-packages (from requests->transformers) (2021.5.30)\n",
            "Requirement already satisfied: idna<3,>=2.5 in /usr/local/lib/python3.7/dist-packages (from requests->transformers) (2.10)\n",
            "Requirement already satisfied: chardet<4,>=3.0.2 in /usr/local/lib/python3.7/dist-packages (from requests->transformers) (3.0.4)\n",
            "Requirement already satisfied: joblib in /usr/local/lib/python3.7/dist-packages (from sacremoses->transformers) (1.0.1)\n",
            "Requirement already satisfied: six in /usr/local/lib/python3.7/dist-packages (from sacremoses->transformers) (1.15.0)\n",
            "Requirement already satisfied: click in /usr/local/lib/python3.7/dist-packages (from sacremoses->transformers) (7.1.2)\n",
            "Installing collected packages: pyyaml, tokenizers, sacremoses, huggingface-hub, transformers\n",
            "  Attempting uninstall: pyyaml\n",
            "    Found existing installation: PyYAML 3.13\n",
            "    Uninstalling PyYAML-3.13:\n",
            "      Successfully uninstalled PyYAML-3.13\n",
            "Successfully installed huggingface-hub-0.0.19 pyyaml-6.0 sacremoses-0.0.46 tokenizers-0.10.3 transformers-4.11.3\n"
          ]
        }
      ]
    },
    {
      "cell_type": "code",
      "metadata": {
        "id": "x4giRzM7NtHJ"
      },
      "source": [
        "import numpy as np\n",
        "import pandas as pd\n",
        "import torch\n",
        "import torch.nn as nn\n",
        "from sklearn.model_selection import train_test_split\n",
        "from sklearn.metrics import classification_report\n",
        "import transformers\n",
        "from transformers import GPT2ForSequenceClassification, GPT2TokenizerFast, GPT2Config\n",
        "\n",
        "\n",
        "# specify GPU\n",
        "device = torch.device(\"cuda\")"
      ],
      "execution_count": 2,
      "outputs": []
    },
    {
      "cell_type": "code",
      "metadata": {
        "id": "9Q9eeywYPJiM",
        "colab": {
          "base_uri": "https://localhost:8080/"
        },
        "outputId": "f9d4b3f4-edea-4ad1-a129-28212df53ddd"
      },
      "source": [
        "from google.colab import drive\n",
        "drive.mount(\"/content/gdrive\")"
      ],
      "execution_count": 3,
      "outputs": [
        {
          "output_type": "stream",
          "name": "stdout",
          "text": [
            "Mounted at /content/gdrive\n"
          ]
        }
      ]
    },
    {
      "cell_type": "markdown",
      "metadata": {
        "id": "kKd-Tj3hOMsZ"
      },
      "source": [
        "# Load Dataset"
      ]
    },
    {
      "cell_type": "code",
      "metadata": {
        "id": "cwJrQFQgN_BE",
        "colab": {
          "base_uri": "https://localhost:8080/",
          "height": 206
        },
        "outputId": "13d9c851-9131-415c-e114-e2514716e876"
      },
      "source": [
        "df = pd.read_excel(\"/content/gdrive/MyDrive/BERT fine tuning/Dataset/small_dataset1.xlsx\")\n",
        "df.head()"
      ],
      "execution_count": 4,
      "outputs": [
        {
          "output_type": "execute_result",
          "data": {
            "text/html": [
              "<div>\n",
              "<style scoped>\n",
              "    .dataframe tbody tr th:only-of-type {\n",
              "        vertical-align: middle;\n",
              "    }\n",
              "\n",
              "    .dataframe tbody tr th {\n",
              "        vertical-align: top;\n",
              "    }\n",
              "\n",
              "    .dataframe thead th {\n",
              "        text-align: right;\n",
              "    }\n",
              "</style>\n",
              "<table border=\"1\" class=\"dataframe\">\n",
              "  <thead>\n",
              "    <tr style=\"text-align: right;\">\n",
              "      <th></th>\n",
              "      <th>class</th>\n",
              "      <th>Symptom Severity</th>\n",
              "      <th>Delusion Score</th>\n",
              "      <th>text</th>\n",
              "    </tr>\n",
              "  </thead>\n",
              "  <tbody>\n",
              "    <tr>\n",
              "      <th>0</th>\n",
              "      <td>patient</td>\n",
              "      <td>72</td>\n",
              "      <td>12</td>\n",
              "      <td>I would wake up greet my pet/friend use the ...</td>\n",
              "    </tr>\n",
              "    <tr>\n",
              "      <th>1</th>\n",
              "      <td>patient</td>\n",
              "      <td>92</td>\n",
              "      <td>22</td>\n",
              "      <td>On a average Sunday I wake up, brush my teet...</td>\n",
              "    </tr>\n",
              "    <tr>\n",
              "      <th>2</th>\n",
              "      <td>patient</td>\n",
              "      <td>64</td>\n",
              "      <td>4</td>\n",
              "      <td>Well This white lady moved in my hood an she...</td>\n",
              "    </tr>\n",
              "    <tr>\n",
              "      <th>3</th>\n",
              "      <td>control</td>\n",
              "      <td>0</td>\n",
              "      <td>0</td>\n",
              "      <td>sometimes when my family comes around and th...</td>\n",
              "    </tr>\n",
              "    <tr>\n",
              "      <th>4</th>\n",
              "      <td>patient</td>\n",
              "      <td>79</td>\n",
              "      <td>10</td>\n",
              "      <td>The thing that makes me the angriest is when...</td>\n",
              "    </tr>\n",
              "  </tbody>\n",
              "</table>\n",
              "</div>"
            ],
            "text/plain": [
              "     class  ...                                               text\n",
              "0  patient  ...    I would wake up greet my pet/friend use the ...\n",
              "1  patient  ...    On a average Sunday I wake up, brush my teet...\n",
              "2  patient  ...    Well This white lady moved in my hood an she...\n",
              "3  control  ...    sometimes when my family comes around and th...\n",
              "4  patient  ...    The thing that makes me the angriest is when...\n",
              "\n",
              "[5 rows x 4 columns]"
            ]
          },
          "metadata": {},
          "execution_count": 4
        }
      ]
    },
    {
      "cell_type": "code",
      "metadata": {
        "id": "fzPPOrVQWiW5",
        "colab": {
          "base_uri": "https://localhost:8080/"
        },
        "outputId": "1704d287-6918-4dda-a1fb-2fdd058ce874"
      },
      "source": [
        "df.shape"
      ],
      "execution_count": 5,
      "outputs": [
        {
          "output_type": "execute_result",
          "data": {
            "text/plain": [
              "(373, 4)"
            ]
          },
          "metadata": {},
          "execution_count": 5
        }
      ]
    },
    {
      "cell_type": "code",
      "metadata": {
        "id": "bcUsauuMClXl"
      },
      "source": [
        "df['class'] = df['class'].replace(['patient','control'],[0,1])"
      ],
      "execution_count": 6,
      "outputs": []
    },
    {
      "cell_type": "code",
      "metadata": {
        "id": "676DPU1BOPdp",
        "colab": {
          "base_uri": "https://localhost:8080/"
        },
        "outputId": "e5056184-8218-45d8-f4e4-8afa416eeccc"
      },
      "source": [
        "# check class distribution\n",
        "df['class'].value_counts(normalize = True)"
      ],
      "execution_count": 7,
      "outputs": [
        {
          "output_type": "execute_result",
          "data": {
            "text/plain": [
              "1    0.509383\n",
              "0    0.490617\n",
              "Name: class, dtype: float64"
            ]
          },
          "metadata": {},
          "execution_count": 7
        }
      ]
    },
    {
      "cell_type": "markdown",
      "metadata": {
        "id": "MKfWnApvOoE7"
      },
      "source": [
        "# Split train dataset into train, validation and test sets"
      ]
    },
    {
      "cell_type": "code",
      "metadata": {
        "id": "mfhSPF5jOWb7"
      },
      "source": [
        "train_text, temp_text, train_labels, temp_labels = train_test_split(df['text'].astype('str'), df['class'], \n",
        "                                                                    random_state=2018, \n",
        "                                                                    test_size=0.3, \n",
        "                                                                    stratify=df['class'])\n",
        "\n",
        "# we will use temp_text and temp_labels to create validation and test set\n",
        "val_text, test_text, val_labels, test_labels = train_test_split(temp_text, temp_labels, \n",
        "                                                                random_state=2018, \n",
        "                                                                test_size=0.5, \n",
        "                                                                stratify=temp_labels)"
      ],
      "execution_count": 8,
      "outputs": []
    },
    {
      "cell_type": "markdown",
      "metadata": {
        "id": "n7hsdLoCO7uB"
      },
      "source": [
        "# Import BERT Model and BERT Tokenizer"
      ]
    },
    {
      "cell_type": "code",
      "metadata": {
        "id": "S1kY3gZjO2RE",
        "colab": {
          "base_uri": "https://localhost:8080/"
        },
        "outputId": "02189e7a-2cf0-4936-db9e-61d915704769"
      },
      "source": [
        "# Load the GPT tokenizer\n",
        "tokenizer = GPT2TokenizerFast.from_pretrained('/content/gdrive/MyDrive/BERT fine tuning/Models/retrained_gpt/')\n",
        "# import GPT pretrained model\n",
        "gpt_config = GPT2Config.from_pretrained('/content/gdrive/MyDrive/BERT fine tuning/Models/retrained_gpt/', num_classes=2, pad_token=tokenizer.eos_token, pad_token_id=tokenizer.eos_token_id)\n",
        "gpt = GPT2ForSequenceClassification.from_pretrained('/content/gdrive/MyDrive/BERT fine tuning/Models/retrained_gpt/', config=gpt_config)\n"
      ],
      "execution_count": 9,
      "outputs": [
        {
          "output_type": "stream",
          "name": "stderr",
          "text": [
            "Some weights of the model checkpoint at /content/gdrive/MyDrive/BERT fine tuning/Models/retrained_gpt/ were not used when initializing GPT2ForSequenceClassification: ['lm_head.weight']\n",
            "- This IS expected if you are initializing GPT2ForSequenceClassification from the checkpoint of a model trained on another task or with another architecture (e.g. initializing a BertForSequenceClassification model from a BertForPreTraining model).\n",
            "- This IS NOT expected if you are initializing GPT2ForSequenceClassification from the checkpoint of a model that you expect to be exactly identical (initializing a BertForSequenceClassification model from a BertForSequenceClassification model).\n",
            "Some weights of GPT2ForSequenceClassification were not initialized from the model checkpoint at /content/gdrive/MyDrive/BERT fine tuning/Models/retrained_gpt/ and are newly initialized: ['score.weight']\n",
            "You should probably TRAIN this model on a down-stream task to be able to use it for predictions and inference.\n"
          ]
        }
      ]
    },
    {
      "cell_type": "code",
      "metadata": {
        "id": "_zOKeOMeO-DT"
      },
      "source": [
        "# sample data\n",
        "text = [\"this is a bert model tutorial\", \"we will fine-tune a bert model\"]\n",
        "tokenizer.pad_token = tokenizer.eos_token\n",
        "# encode text\n",
        "sent_id = tokenizer.batch_encode_plus(text, padding=True, return_token_type_ids=False)"
      ],
      "execution_count": 10,
      "outputs": []
    },
    {
      "cell_type": "code",
      "metadata": {
        "id": "oAH73n39PHLw",
        "colab": {
          "base_uri": "https://localhost:8080/"
        },
        "outputId": "d1847019-19f3-48c1-e13e-57bf51eede86"
      },
      "source": [
        "# output\n",
        "print(sent_id)"
      ],
      "execution_count": 11,
      "outputs": [
        {
          "output_type": "stream",
          "name": "stdout",
          "text": [
            "{'input_ids': [[5661, 318, 257, 275, 861, 2746, 11808, 50256, 50256, 50256], [732, 481, 3734, 12, 83, 1726, 257, 275, 861, 2746]], 'attention_mask': [[1, 1, 1, 1, 1, 1, 1, 0, 0, 0], [1, 1, 1, 1, 1, 1, 1, 1, 1, 1]]}\n"
          ]
        }
      ]
    },
    {
      "cell_type": "markdown",
      "metadata": {
        "id": "8wIYaWI_Prg8"
      },
      "source": [
        "# Tokenization"
      ]
    },
    {
      "cell_type": "code",
      "metadata": {
        "id": "yKwbpeN_PMiu",
        "colab": {
          "base_uri": "https://localhost:8080/",
          "height": 283
        },
        "outputId": "4d76f159-b911-4aa0-a84c-460295efcc51"
      },
      "source": [
        "# get length of all the messages in the train set\n",
        "seq_len = [len(i.split()) for i in train_text]\n",
        "\n",
        "pd.Series(seq_len).hist(bins = 30)"
      ],
      "execution_count": 12,
      "outputs": [
        {
          "output_type": "execute_result",
          "data": {
            "text/plain": [
              "<matplotlib.axes._subplots.AxesSubplot at 0x7f3d8bf572d0>"
            ]
          },
          "metadata": {},
          "execution_count": 12
        },
        {
          "output_type": "display_data",
          "data": {
            "image/png": "[encoded data removed]",
            "text/plain": [
              "<Figure size 432x288 with 1 Axes>"
            ]
          },
          "metadata": {
            "needs_background": "light"
          }
        }
      ]
    },
    {
      "cell_type": "code",
      "metadata": {
        "id": "OXcswEIRPvGe"
      },
      "source": [
        "max_seq_len = 120"
      ],
      "execution_count": 13,
      "outputs": []
    },
    {
      "cell_type": "code",
      "metadata": {
        "id": "tk5S7DWaP2t6",
        "colab": {
          "base_uri": "https://localhost:8080/"
        },
        "outputId": "901d5ba5-07b6-421b-8628-11ee2716db29"
      },
      "source": [
        "# tokenize and encode sequences in the training set\n",
        "tokens_train = tokenizer.batch_encode_plus(\n",
        "    train_text.tolist(),\n",
        "    max_length = max_seq_len,\n",
        "    pad_to_max_length=True,\n",
        "    truncation=True,\n",
        "    return_token_type_ids=False\n",
        ")\n",
        "\n",
        "# tokenize and encode sequences in the validation set\n",
        "tokens_val = tokenizer.batch_encode_plus(\n",
        "    val_text.tolist(),\n",
        "    max_length = max_seq_len,\n",
        "    pad_to_max_length=True,\n",
        "    truncation=True,\n",
        "    return_token_type_ids=False\n",
        ")\n",
        "\n",
        "# tokenize and encode sequences in the test set\n",
        "tokens_test = tokenizer.batch_encode_plus(\n",
        "    test_text.tolist(),\n",
        "    max_length = max_seq_len,\n",
        "    pad_to_max_length=True,\n",
        "    truncation=True,\n",
        "    return_token_type_ids=False\n",
        ")"
      ],
      "execution_count": 14,
      "outputs": [
        {
          "output_type": "stream",
          "name": "stderr",
          "text": [
            "/usr/local/lib/python3.7/dist-packages/transformers/tokenization_utils_base.py:2217: FutureWarning: The `pad_to_max_length` argument is deprecated and will be removed in a future version, use `padding=True` or `padding='longest'` to pad to the longest sequence in the batch, or use `padding='max_length'` to pad to a max length. In this case, you can give a specific length with `max_length` (e.g. `max_length=45`) or leave max_length to None to pad to the maximal input size of the model (e.g. 512 for Bert).\n",
            "  FutureWarning,\n"
          ]
        }
      ]
    },
    {
      "cell_type": "markdown",
      "metadata": {
        "id": "Wsm8bkRZQTw9"
      },
      "source": [
        "# Convert Integer Sequences to Tensors"
      ]
    },
    {
      "cell_type": "code",
      "metadata": {
        "id": "QR-lXwmzQPd6"
      },
      "source": [
        "# for train set\n",
        "train_seq = torch.tensor(tokens_train['input_ids'])\n",
        "train_mask = torch.tensor(tokens_train['attention_mask'])\n",
        "train_y = torch.tensor(train_labels.tolist(), dtype=torch.float32)\n",
        "\n",
        "# for validation set\n",
        "val_seq = torch.tensor(tokens_val['input_ids'])\n",
        "val_mask = torch.tensor(tokens_val['attention_mask'])\n",
        "val_y = torch.tensor(val_labels.tolist(), dtype=torch.float32)\n",
        "\n",
        "# for test set\n",
        "test_seq = torch.tensor(tokens_test['input_ids'])\n",
        "test_mask = torch.tensor(tokens_test['attention_mask'])\n",
        "test_y = torch.tensor(test_labels.tolist(), dtype=torch.float32)"
      ],
      "execution_count": 15,
      "outputs": []
    },
    {
      "cell_type": "markdown",
      "metadata": {
        "id": "Ov1cOBlcRLuk"
      },
      "source": [
        "# Create DataLoaders"
      ]
    },
    {
      "cell_type": "code",
      "metadata": {
        "id": "qUy9JKFYQYLp"
      },
      "source": [
        "from torch.utils.data import TensorDataset, DataLoader, RandomSampler, SequentialSampler\n",
        "\n",
        "#define a batch size\n",
        "batch_size = 32\n",
        "\n",
        "# wrap tensors\n",
        "train_data = TensorDataset(train_seq, train_mask, train_y)\n",
        "\n",
        "# sampler for sampling the data during training\n",
        "train_sampler = RandomSampler(train_data)\n",
        "\n",
        "# dataLoader for train set\n",
        "train_dataloader = DataLoader(train_data, sampler=train_sampler, batch_size=batch_size)\n",
        "\n",
        "# wrap tensors\n",
        "val_data = TensorDataset(val_seq, val_mask, val_y)\n",
        "\n",
        "# sampler for sampling the data during training\n",
        "val_sampler = SequentialSampler(val_data)\n",
        "\n",
        "# dataLoader for validation set\n",
        "val_dataloader = DataLoader(val_data, sampler = val_sampler, batch_size=batch_size)"
      ],
      "execution_count": 16,
      "outputs": []
    },
    {
      "cell_type": "markdown",
      "metadata": {
        "id": "K2HZc5ZYRV28"
      },
      "source": [
        "# Freeze BERT Parameters"
      ]
    },
    {
      "cell_type": "code",
      "metadata": {
        "id": "wHZ0MC00RQA_"
      },
      "source": [
        "# # freeze all the parameters\n",
        "# for name, param in gpt.named_parameters():\n",
        "#   param.requires_grad = False\n",
        "\n",
        "# freeze all the parameters\n",
        "for name, param in gpt.named_parameters():\n",
        "    if name in ['transformer.ln_f.weight', 'transformer.ln_f.bias', 'score.weight']:\n",
        "        param.requires_grad = True\n",
        "    else:\n",
        "        param.requires_grad = False"
      ],
      "execution_count": 17,
      "outputs": []
    },
    {
      "cell_type": "markdown",
      "metadata": {
        "id": "s7ahGBUWRi3X"
      },
      "source": [
        "# Define Model Architecture"
      ]
    },
    {
      "cell_type": "code",
      "metadata": {
        "id": "b3iEtGyYRd0A"
      },
      "source": [
        "class GPT_Arch(nn.Module):\n",
        "\n",
        "    def __init__(self, gpt):\n",
        "      \n",
        "      super(GPT_Arch, self).__init__()\n",
        "\n",
        "      self.gpt = gpt\n",
        "\n",
        "      self.softmax = nn.LogSoftmax(dim=1)\n",
        "\n",
        "    #define the forward pass\n",
        "    def forward(self, sent_id, mask):\n",
        "\n",
        "      #pass the inputs to the model  \n",
        "      x = self.gpt(input_ids=sent_id, attention_mask=mask)\n",
        "\n",
        "      return self.softmax(x[0])"
      ],
      "execution_count": 18,
      "outputs": []
    },
    {
      "cell_type": "code",
      "metadata": {
        "id": "cBAJJVuJRliv"
      },
      "source": [
        "# pass the pre-trained BERT to our define architecture\n",
        "model = GPT_Arch(gpt)\n",
        "\n",
        "# push the model to GPU\n",
        "model = model.to(device)"
      ],
      "execution_count": 19,
      "outputs": []
    },
    {
      "cell_type": "code",
      "metadata": {
        "id": "taXS0IilRn9J"
      },
      "source": [
        "# optimizer from hugging face transformers\n",
        "from transformers import AdamW\n",
        "\n",
        "# define the optimizer\n",
        "optimizer = AdamW(model.parameters(), lr = 5e-3)"
      ],
      "execution_count": 20,
      "outputs": []
    },
    {
      "cell_type": "markdown",
      "metadata": {
        "id": "j9CDpoMQR_rK"
      },
      "source": [
        "# Find Class Weights"
      ]
    },
    {
      "cell_type": "code",
      "metadata": {
        "id": "izY5xH5eR7Ur",
        "colab": {
          "base_uri": "https://localhost:8080/"
        },
        "outputId": "735e30ce-cc73-438b-a2a2-ab45dc3a3907"
      },
      "source": [
        "from sklearn.utils.class_weight import compute_class_weight\n",
        "\n",
        "#compute the class weights\n",
        "class_wts = compute_class_weight('balanced', np.unique(train_labels), train_labels)\n",
        "\n",
        "print(class_wts)"
      ],
      "execution_count": 21,
      "outputs": [
        {
          "output_type": "stream",
          "name": "stdout",
          "text": [
            "[1.01953125 0.98120301]\n"
          ]
        }
      ]
    },
    {
      "cell_type": "code",
      "metadata": {
        "id": "zrhD866Gjsd6"
      },
      "source": [
        "# convert class weights to tensor\n",
        "weights= torch.tensor(class_wts,dtype=torch.float)\n",
        "weights = weights.to(device)\n",
        "\n",
        "# loss function\n",
        "cross_entropy  = nn.NLLLoss(weight=weights) \n",
        "\n",
        "# number of training epochs\n",
        "epochs = 40"
      ],
      "execution_count": 22,
      "outputs": []
    },
    {
      "cell_type": "markdown",
      "metadata": {
        "id": "My4CA0qaShLq"
      },
      "source": [
        "# Fine-Tune BERT"
      ]
    },
    {
      "cell_type": "code",
      "metadata": {
        "id": "rskLk8R_SahS"
      },
      "source": [
        "# function to train the model\n",
        "def train():\n",
        "  \n",
        "  model.train()\n",
        "\n",
        "  total_loss, total_accuracy = 0, 0\n",
        "  \n",
        "  # empty list to save model predictions\n",
        "  total_preds=[]\n",
        "  \n",
        "  # iterate over batches\n",
        "  for step,batch in enumerate(train_dataloader):\n",
        "    \n",
        "    # progress update after every 50 batches.\n",
        "    if step % 50 == 0 and not step == 0:\n",
        "      print('  Batch {:>5,}  of  {:>5,}.'.format(step, len(train_dataloader)))\n",
        "\n",
        "    # push the batch to gpu\n",
        "    batch = [r.to(device) for r in batch]\n",
        " \n",
        "    sent_id, mask, labels = batch\n",
        "\n",
        "    # clear previously calculated gradients \n",
        "    model.zero_grad()        \n",
        "\n",
        "    # get model predictions for the current batch\n",
        "    preds = model(sent_id, mask)\n",
        "    # compute the loss between actual and predicted values\n",
        "    loss = cross_entropy(preds, labels.long())\n",
        "\n",
        "    # add on to the total loss\n",
        "    total_loss = total_loss + loss.item()\n",
        "\n",
        "    # backward pass to calculate the gradients\n",
        "    loss.backward()\n",
        "\n",
        "    # clip the the gradients to 1.0. It helps in preventing the exploding gradient problem\n",
        "    torch.nn.utils.clip_grad_norm_(model.parameters(), 1.0)\n",
        "\n",
        "    # update parameters\n",
        "    optimizer.step()\n",
        "\n",
        "    # model predictions are stored on GPU. So, push it to CPU\n",
        "    preds=preds.detach().cpu().numpy()\n",
        "\n",
        "    # append the model predictions\n",
        "    total_preds.append(preds)\n",
        "\n",
        "  # compute the training loss of the epoch\n",
        "  avg_loss = total_loss / len(train_dataloader)\n",
        "  \n",
        "  # predictions are in the form of (no. of batches, size of batch, no. of classes).\n",
        "  # reshape the predictions in form of (number of samples, no. of classes)\n",
        "  total_preds  = np.concatenate(total_preds, axis=0)\n",
        "\n",
        "  #returns the loss and predictions\n",
        "  return avg_loss, total_preds"
      ],
      "execution_count": 23,
      "outputs": []
    },
    {
      "cell_type": "code",
      "metadata": {
        "id": "yGXovFDlSxB5"
      },
      "source": [
        "# function for evaluating the model\n",
        "def evaluate():\n",
        "  \n",
        "  print(\"\\nEvaluating...\")\n",
        "  \n",
        "  # deactivate dropout layers\n",
        "  model.eval()\n",
        "\n",
        "  total_loss, total_accuracy = 0, 0\n",
        "  \n",
        "  # empty list to save the model predictions\n",
        "  total_preds = []\n",
        "\n",
        "  # iterate over batches\n",
        "  for step,batch in enumerate(val_dataloader):\n",
        "    \n",
        "    # Progress update every 50 batches.\n",
        "    if step % 50 == 0 and not step == 0:\n",
        "      \n",
        "      # Calculate elapsed time in minutes.\n",
        "    #   elapsed = format_time(time.time() - t0)\n",
        "            \n",
        "      # Report progress.\n",
        "      print('  Batch {:>5,}  of  {:>5,}.'.format(step, len(val_dataloader)))\n",
        "\n",
        "    # push the batch to gpu\n",
        "    batch = [t.to(device) for t in batch]\n",
        "\n",
        "    sent_id, mask, labels = batch\n",
        "\n",
        "    # deactivate autograd\n",
        "    with torch.no_grad():\n",
        "      \n",
        "      # model predictions\n",
        "      preds = model(sent_id, mask)\n",
        "\n",
        "      # compute the validation loss between actual and predicted values\n",
        "      loss = cross_entropy(preds,labels.long())\n",
        "\n",
        "      total_loss = total_loss + loss.item()\n",
        "\n",
        "      preds = preds.detach().cpu().numpy()\n",
        "\n",
        "      total_preds.append(preds)\n",
        "\n",
        "  # compute the validation loss of the epoch\n",
        "  avg_loss = total_loss / len(val_dataloader) \n",
        "\n",
        "  # reshape the predictions in form of (number of samples, no. of classes)\n",
        "  total_preds  = np.concatenate(total_preds, axis=0)\n",
        "\n",
        "  return avg_loss, total_preds"
      ],
      "execution_count": 24,
      "outputs": []
    },
    {
      "cell_type": "markdown",
      "metadata": {
        "id": "9KZEgxRRTLXG"
      },
      "source": [
        "# Start Model Training"
      ]
    },
    {
      "cell_type": "code",
      "metadata": {
        "id": "k1USGTntS3TS",
        "colab": {
          "base_uri": "https://localhost:8080/"
        },
        "outputId": "4037f790-2754-4572-f2d3-d34f71d315d8"
      },
      "source": [
        "# set initial loss to infinite\n",
        "best_valid_loss = float('inf')\n",
        "\n",
        "# empty lists to store training and validation loss of each epoch\n",
        "train_losses=[]\n",
        "valid_losses=[]\n",
        "\n",
        "#for each epoch\n",
        "for epoch in range(epochs):\n",
        "     \n",
        "    print('\\n Epoch {:} / {:}'.format(epoch + 1, epochs))\n",
        "    \n",
        "    #train model\n",
        "    train_loss, _ = train()\n",
        "    \n",
        "    #evaluate model\n",
        "    valid_loss, _ = evaluate()\n",
        "    \n",
        "    #save the best model\n",
        "    if valid_loss < best_valid_loss:\n",
        "        best_valid_loss = valid_loss\n",
        "        torch.save(model.state_dict(), 'saved_weights.pt')\n",
        "    \n",
        "    # append training and validation loss\n",
        "    train_losses.append(train_loss)\n",
        "    valid_losses.append(valid_loss)\n",
        "    \n",
        "    print(f'\\nTraining Loss: {train_loss:.3f}')\n",
        "    print(f'Validation Loss: {valid_loss:.3f}')"
      ],
      "execution_count": 25,
      "outputs": [
        {
          "output_type": "stream",
          "name": "stdout",
          "text": [
            "\n",
            " Epoch 1 / 40\n",
            "\n",
            "Evaluating...\n",
            "\n",
            "Training Loss: 0.907\n",
            "Validation Loss: 1.025\n",
            "\n",
            " Epoch 2 / 40\n",
            "\n",
            "Evaluating...\n",
            "\n",
            "Training Loss: 0.486\n",
            "Validation Loss: 0.898\n",
            "\n",
            " Epoch 3 / 40\n",
            "\n",
            "Evaluating...\n",
            "\n",
            "Training Loss: 0.460\n",
            "Validation Loss: 0.845\n",
            "\n",
            " Epoch 4 / 40\n",
            "\n",
            "Evaluating...\n",
            "\n",
            "Training Loss: 0.317\n",
            "Validation Loss: 0.877\n",
            "\n",
            " Epoch 5 / 40\n",
            "\n",
            "Evaluating...\n",
            "\n",
            "Training Loss: 0.316\n",
            "Validation Loss: 0.936\n",
            "\n",
            " Epoch 6 / 40\n",
            "\n",
            "Evaluating...\n",
            "\n",
            "Training Loss: 0.306\n",
            "Validation Loss: 0.952\n",
            "\n",
            " Epoch 7 / 40\n",
            "\n",
            "Evaluating...\n",
            "\n",
            "Training Loss: 0.224\n",
            "Validation Loss: 0.995\n",
            "\n",
            " Epoch 8 / 40\n",
            "\n",
            "Evaluating...\n",
            "\n",
            "Training Loss: 0.223\n",
            "Validation Loss: 1.034\n",
            "\n",
            " Epoch 9 / 40\n",
            "\n",
            "Evaluating...\n",
            "\n",
            "Training Loss: 0.245\n",
            "Validation Loss: 0.996\n",
            "\n",
            " Epoch 10 / 40\n",
            "\n",
            "Evaluating...\n",
            "\n",
            "Training Loss: 0.223\n",
            "Validation Loss: 0.923\n",
            "\n",
            " Epoch 11 / 40\n",
            "\n",
            "Evaluating...\n",
            "\n",
            "Training Loss: 0.140\n",
            "Validation Loss: 0.904\n",
            "\n",
            " Epoch 12 / 40\n",
            "\n",
            "Evaluating...\n",
            "\n",
            "Training Loss: 0.148\n",
            "Validation Loss: 0.997\n",
            "\n",
            " Epoch 13 / 40\n",
            "\n",
            "Evaluating...\n",
            "\n",
            "Training Loss: 0.138\n",
            "Validation Loss: 0.905\n",
            "\n",
            " Epoch 14 / 40\n",
            "\n",
            "Evaluating...\n",
            "\n",
            "Training Loss: 0.111\n",
            "Validation Loss: 1.092\n",
            "\n",
            " Epoch 15 / 40\n",
            "\n",
            "Evaluating...\n",
            "\n",
            "Training Loss: 0.112\n",
            "Validation Loss: 1.017\n",
            "\n",
            " Epoch 16 / 40\n",
            "\n",
            "Evaluating...\n",
            "\n",
            "Training Loss: 0.095\n",
            "Validation Loss: 1.108\n",
            "\n",
            " Epoch 17 / 40\n",
            "\n",
            "Evaluating...\n",
            "\n",
            "Training Loss: 0.077\n",
            "Validation Loss: 1.100\n",
            "\n",
            " Epoch 18 / 40\n",
            "\n",
            "Evaluating...\n",
            "\n",
            "Training Loss: 0.074\n",
            "Validation Loss: 1.213\n",
            "\n",
            " Epoch 19 / 40\n",
            "\n",
            "Evaluating...\n",
            "\n",
            "Training Loss: 0.099\n",
            "Validation Loss: 1.147\n",
            "\n",
            " Epoch 20 / 40\n",
            "\n",
            "Evaluating...\n",
            "\n",
            "Training Loss: 0.110\n",
            "Validation Loss: 1.271\n",
            "\n",
            " Epoch 21 / 40\n",
            "\n",
            "Evaluating...\n",
            "\n",
            "Training Loss: 0.100\n",
            "Validation Loss: 1.254\n",
            "\n",
            " Epoch 22 / 40\n",
            "\n",
            "Evaluating...\n",
            "\n",
            "Training Loss: 0.111\n",
            "Validation Loss: 1.256\n",
            "\n",
            " Epoch 23 / 40\n",
            "\n",
            "Evaluating...\n",
            "\n",
            "Training Loss: 0.066\n",
            "Validation Loss: 1.474\n",
            "\n",
            " Epoch 24 / 40\n",
            "\n",
            "Evaluating...\n",
            "\n",
            "Training Loss: 0.077\n",
            "Validation Loss: 1.563\n",
            "\n",
            " Epoch 25 / 40\n",
            "\n",
            "Evaluating...\n",
            "\n",
            "Training Loss: 0.103\n",
            "Validation Loss: 1.296\n",
            "\n",
            " Epoch 26 / 40\n",
            "\n",
            "Evaluating...\n",
            "\n",
            "Training Loss: 0.071\n",
            "Validation Loss: 1.459\n",
            "\n",
            " Epoch 27 / 40\n",
            "\n",
            "Evaluating...\n",
            "\n",
            "Training Loss: 0.097\n",
            "Validation Loss: 1.535\n",
            "\n",
            " Epoch 28 / 40\n",
            "\n",
            "Evaluating...\n",
            "\n",
            "Training Loss: 0.060\n",
            "Validation Loss: 1.654\n",
            "\n",
            " Epoch 29 / 40\n",
            "\n",
            "Evaluating...\n",
            "\n",
            "Training Loss: 0.075\n",
            "Validation Loss: 1.467\n",
            "\n",
            " Epoch 30 / 40\n",
            "\n",
            "Evaluating...\n",
            "\n",
            "Training Loss: 0.053\n",
            "Validation Loss: 1.514\n",
            "\n",
            " Epoch 31 / 40\n",
            "\n",
            "Evaluating...\n",
            "\n",
            "Training Loss: 0.035\n",
            "Validation Loss: 1.497\n",
            "\n",
            " Epoch 32 / 40\n",
            "\n",
            "Evaluating...\n",
            "\n",
            "Training Loss: 0.036\n",
            "Validation Loss: 1.570\n",
            "\n",
            " Epoch 33 / 40\n",
            "\n",
            "Evaluating...\n",
            "\n",
            "Training Loss: 0.044\n",
            "Validation Loss: 1.621\n",
            "\n",
            " Epoch 34 / 40\n",
            "\n",
            "Evaluating...\n",
            "\n",
            "Training Loss: 0.036\n",
            "Validation Loss: 1.556\n",
            "\n",
            " Epoch 35 / 40\n",
            "\n",
            "Evaluating...\n",
            "\n",
            "Training Loss: 0.032\n",
            "Validation Loss: 1.565\n",
            "\n",
            " Epoch 36 / 40\n",
            "\n",
            "Evaluating...\n",
            "\n",
            "Training Loss: 0.040\n",
            "Validation Loss: 1.686\n",
            "\n",
            " Epoch 37 / 40\n",
            "\n",
            "Evaluating...\n",
            "\n",
            "Training Loss: 0.041\n",
            "Validation Loss: 1.674\n",
            "\n",
            " Epoch 38 / 40\n",
            "\n",
            "Evaluating...\n",
            "\n",
            "Training Loss: 0.036\n",
            "Validation Loss: 1.751\n",
            "\n",
            " Epoch 39 / 40\n",
            "\n",
            "Evaluating...\n",
            "\n",
            "Training Loss: 0.077\n",
            "Validation Loss: 1.641\n",
            "\n",
            " Epoch 40 / 40\n",
            "\n",
            "Evaluating...\n",
            "\n",
            "Training Loss: 0.036\n",
            "Validation Loss: 1.654\n"
          ]
        }
      ]
    },
    {
      "cell_type": "markdown",
      "metadata": {
        "id": "_yrhUc9kTI5a"
      },
      "source": [
        "# Load Saved Model"
      ]
    },
    {
      "cell_type": "code",
      "metadata": {
        "id": "OacxUyizS8d1",
        "colab": {
          "base_uri": "https://localhost:8080/"
        },
        "outputId": "cfc7bd89-bb85-4715-dc08-ea901b4485f0"
      },
      "source": [
        "#load weights of best model\n",
        "path = 'saved_weights.pt'\n",
        "model.load_state_dict(torch.load(path))"
      ],
      "execution_count": 26,
      "outputs": [
        {
          "output_type": "execute_result",
          "data": {
            "text/plain": [
              "<All keys matched successfully>"
            ]
          },
          "metadata": {},
          "execution_count": 26
        }
      ]
    },
    {
      "cell_type": "markdown",
      "metadata": {
        "id": "x4SVftkkTZXA"
      },
      "source": [
        "## Get Predictions for Test Data"
      ]
    },
    {
      "cell_type": "code",
      "metadata": {
        "id": "NZl0SZmFTRQA"
      },
      "source": [
        "# get predictions for test data\n",
        "model.eval()\n",
        "with torch.no_grad():\n",
        "  preds = model(test_seq.to(device), test_mask.to(device))\n",
        "  preds = preds.detach().cpu().numpy()"
      ],
      "execution_count": 27,
      "outputs": []
    },
    {
      "cell_type": "code",
      "metadata": {
        "id": "YUKKznD4-O4z",
        "colab": {
          "base_uri": "https://localhost:8080/"
        },
        "outputId": "ef0926a0-eaec-4f6f-ffb8-5f69dbfaa60f"
      },
      "source": [
        "preds"
      ],
      "execution_count": 28,
      "outputs": [
        {
          "output_type": "execute_result",
          "data": {
            "text/plain": [
              "array([[-1.4526399 , -0.26651034],\n",
              "       [-0.61571884, -0.7770776 ],\n",
              "       [-2.9579408 , -0.0533225 ],\n",
              "       [-0.69000155, -0.6963028 ],\n",
              "       [-0.11537497, -2.2167008 ],\n",
              "       [-0.12101754, -2.1717188 ],\n",
              "       [-0.14796759, -1.983834  ],\n",
              "       [-2.2553358 , -0.11075098],\n",
              "       [-0.22650513, -1.5961033 ],\n",
              "       [-0.07924497, -2.574573  ],\n",
              "       [-0.2690992 , -1.4442096 ],\n",
              "       [-1.3344712 , -0.3055709 ],\n",
              "       [-2.3051398 , -0.10507707],\n",
              "       [-0.64091927, -0.74825394],\n",
              "       [-1.0377067 , -0.4373679 ],\n",
              "       [-0.7386198 , -0.6496527 ],\n",
              "       [-1.5402508 , -0.24121505],\n",
              "       [-0.69105643, -0.6952422 ],\n",
              "       [-0.03293975, -3.4295008 ],\n",
              "       [-1.0782294 , -0.41581452],\n",
              "       [-1.9073732 , -0.16072041],\n",
              "       [-0.6932763 , -0.69301814],\n",
              "       [-0.4091047 , -1.0913727 ],\n",
              "       [-1.5733162 , -0.23238163],\n",
              "       [-0.31562608, -1.3068627 ],\n",
              "       [-2.2218032 , -0.11475275],\n",
              "       [-0.02778956, -3.5969567 ],\n",
              "       [-0.5299885 , -0.8882177 ],\n",
              "       [-2.7760077 , -0.06431101],\n",
              "       [-2.3450587 , -0.10075071],\n",
              "       [-0.04346262, -3.1575053 ],\n",
              "       [-3.5669363 , -0.02864878],\n",
              "       [-0.29722717, -1.3581936 ],\n",
              "       [-0.42666343, -1.0575178 ],\n",
              "       [-3.312009  , -0.03712349],\n",
              "       [-2.3099158 , -0.10454924],\n",
              "       [-0.3832884 , -1.144498  ],\n",
              "       [-2.3834805 , -0.09676317],\n",
              "       [-0.98487717, -0.4675827 ],\n",
              "       [-0.57956177, -0.8213073 ],\n",
              "       [-3.766242  , -0.0234107 ],\n",
              "       [-0.17248641, -1.8424405 ],\n",
              "       [-1.3522588 , -0.29928958],\n",
              "       [-0.18030423, -1.8019075 ],\n",
              "       [-0.23169369, -1.5759504 ],\n",
              "       [-0.7337519 , -0.654127  ],\n",
              "       [-0.18981604, -1.7551069 ],\n",
              "       [-0.5028921 , -0.9283104 ],\n",
              "       [-1.5950894 , -0.22676305],\n",
              "       [-0.5028921 , -0.9283104 ],\n",
              "       [-0.9505516 , -0.4886203 ],\n",
              "       [-0.04732481, -3.0742886 ],\n",
              "       [-1.6881138 , -0.20440514],\n",
              "       [-0.56975913, -0.8339315 ],\n",
              "       [-3.242723  , -0.0398406 ],\n",
              "       [-1.5951242 , -0.22675422]], dtype=float32)"
            ]
          },
          "metadata": {},
          "execution_count": 28
        }
      ]
    },
    {
      "cell_type": "code",
      "metadata": {
        "id": "Ms1ObHZxTYSI",
        "colab": {
          "base_uri": "https://localhost:8080/"
        },
        "outputId": "180ef6a9-4904-42e5-f5af-83584e72851c"
      },
      "source": [
        "# model's performance\n",
        "preds = np.argmax(preds, axis = 1)\n",
        "print(classification_report(test_y, preds))"
      ],
      "execution_count": 29,
      "outputs": [
        {
          "output_type": "stream",
          "name": "stdout",
          "text": [
            "              precision    recall  f1-score   support\n",
            "\n",
            "         0.0       0.68      0.68      0.68        28\n",
            "         1.0       0.68      0.68      0.68        28\n",
            "\n",
            "    accuracy                           0.68        56\n",
            "   macro avg       0.68      0.68      0.68        56\n",
            "weighted avg       0.68      0.68      0.68        56\n",
            "\n"
          ]
        }
      ]
    },
    {
      "cell_type": "code",
      "metadata": {
        "id": "YqzLS7rHTp4T",
        "colab": {
          "base_uri": "https://localhost:8080/",
          "height": 143
        },
        "outputId": "51621a34-016b-4aea-9886-2247e6eeacfe"
      },
      "source": [
        "# confusion matrix\n",
        "pd.crosstab(test_y, preds)"
      ],
      "execution_count": 30,
      "outputs": [
        {
          "output_type": "execute_result",
          "data": {
            "text/html": [
              "<div>\n",
              "<style scoped>\n",
              "    .dataframe tbody tr th:only-of-type {\n",
              "        vertical-align: middle;\n",
              "    }\n",
              "\n",
              "    .dataframe tbody tr th {\n",
              "        vertical-align: top;\n",
              "    }\n",
              "\n",
              "    .dataframe thead th {\n",
              "        text-align: right;\n",
              "    }\n",
              "</style>\n",
              "<table border=\"1\" class=\"dataframe\">\n",
              "  <thead>\n",
              "    <tr style=\"text-align: right;\">\n",
              "      <th>col_0</th>\n",
              "      <th>0</th>\n",
              "      <th>1</th>\n",
              "    </tr>\n",
              "    <tr>\n",
              "      <th>row_0</th>\n",
              "      <th></th>\n",
              "      <th></th>\n",
              "    </tr>\n",
              "  </thead>\n",
              "  <tbody>\n",
              "    <tr>\n",
              "      <th>0.0</th>\n",
              "      <td>19</td>\n",
              "      <td>9</td>\n",
              "    </tr>\n",
              "    <tr>\n",
              "      <th>1.0</th>\n",
              "      <td>9</td>\n",
              "      <td>19</td>\n",
              "    </tr>\n",
              "  </tbody>\n",
              "</table>\n",
              "</div>"
            ],
            "text/plain": [
              "col_0   0   1\n",
              "row_0        \n",
              "0.0    19   9\n",
              "1.0     9  19"
            ]
          },
          "metadata": {},
          "execution_count": 30
        }
      ]
    },
    {
      "cell_type": "code",
      "metadata": {
        "id": "jpX1uTwjUPY6"
      },
      "source": [
        ""
      ],
      "execution_count": 30,
      "outputs": []
    }
  ]
}