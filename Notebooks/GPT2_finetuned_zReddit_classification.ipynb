{
  "nbformat": 4,
  "nbformat_minor": 0,
  "metadata": {
    "accelerator": "GPU",
    "colab": {
      "name": "(inDomain)GPT2_finetuned_zReddit_classification.ipynb",
      "provenance": [],
      "collapsed_sections": []
    },
    "kernelspec": {
      "display_name": "Python 3",
      "name": "python3"
    }
  },
  "cells": [
    {
      "cell_type": "markdown",
      "metadata": {
        "id": "OFOTiqrtNvyy"
      },
      "source": [
        "# Install Transformers Library"
      ]
    },
    {
      "cell_type": "code",
      "metadata": {
        "colab": {
          "base_uri": "https://localhost:8080/"
        },
        "id": "1hkhc10wNrGt",
        "outputId": "a68fecf4-6daf-46b1-a89c-ce18d2eb1acd"
      },
      "source": [
        "!pip install transformers"
      ],
      "execution_count": null,
      "outputs": [
        {
          "output_type": "stream",
          "name": "stdout",
          "text": [
            "Requirement already satisfied: transformers in /usr/local/lib/python3.7/dist-packages (4.11.3)\n",
            "Requirement already satisfied: packaging>=20.0 in /usr/local/lib/python3.7/dist-packages (from transformers) (21.0)\n",
            "Requirement already satisfied: huggingface-hub>=0.0.17 in /usr/local/lib/python3.7/dist-packages (from transformers) (0.0.19)\n",
            "Requirement already satisfied: requests in /usr/local/lib/python3.7/dist-packages (from transformers) (2.23.0)\n",
            "Requirement already satisfied: pyyaml>=5.1 in /usr/local/lib/python3.7/dist-packages (from transformers) (6.0)\n",
            "Requirement already satisfied: tokenizers<0.11,>=0.10.1 in /usr/local/lib/python3.7/dist-packages (from transformers) (0.10.3)\n",
            "Requirement already satisfied: tqdm>=4.27 in /usr/local/lib/python3.7/dist-packages (from transformers) (4.62.3)\n",
            "Requirement already satisfied: importlib-metadata in /usr/local/lib/python3.7/dist-packages (from transformers) (4.8.1)\n",
            "Requirement already satisfied: filelock in /usr/local/lib/python3.7/dist-packages (from transformers) (3.3.0)\n",
            "Requirement already satisfied: regex!=2019.12.17 in /usr/local/lib/python3.7/dist-packages (from transformers) (2019.12.20)\n",
            "Requirement already satisfied: sacremoses in /usr/local/lib/python3.7/dist-packages (from transformers) (0.0.46)\n",
            "Requirement already satisfied: numpy>=1.17 in /usr/local/lib/python3.7/dist-packages (from transformers) (1.19.5)\n",
            "Requirement already satisfied: typing-extensions in /usr/local/lib/python3.7/dist-packages (from huggingface-hub>=0.0.17->transformers) (3.7.4.3)\n",
            "Requirement already satisfied: pyparsing>=2.0.2 in /usr/local/lib/python3.7/dist-packages (from packaging>=20.0->transformers) (2.4.7)\n",
            "Requirement already satisfied: zipp>=0.5 in /usr/local/lib/python3.7/dist-packages (from importlib-metadata->transformers) (3.6.0)\n",
            "Requirement already satisfied: chardet<4,>=3.0.2 in /usr/local/lib/python3.7/dist-packages (from requests->transformers) (3.0.4)\n",
            "Requirement already satisfied: idna<3,>=2.5 in /usr/local/lib/python3.7/dist-packages (from requests->transformers) (2.10)\n",
            "Requirement already satisfied: urllib3!=1.25.0,!=1.25.1,<1.26,>=1.21.1 in /usr/local/lib/python3.7/dist-packages (from requests->transformers) (1.24.3)\n",
            "Requirement already satisfied: certifi>=2017.4.17 in /usr/local/lib/python3.7/dist-packages (from requests->transformers) (2021.5.30)\n",
            "Requirement already satisfied: six in /usr/local/lib/python3.7/dist-packages (from sacremoses->transformers) (1.15.0)\n",
            "Requirement already satisfied: joblib in /usr/local/lib/python3.7/dist-packages (from sacremoses->transformers) (1.0.1)\n",
            "Requirement already satisfied: click in /usr/local/lib/python3.7/dist-packages (from sacremoses->transformers) (7.1.2)\n"
          ]
        }
      ]
    },
    {
      "cell_type": "code",
      "metadata": {
        "id": "x4giRzM7NtHJ"
      },
      "source": [
        "import numpy as np\n",
        "import pandas as pd\n",
        "import torch\n",
        "import torch.nn as nn\n",
        "from sklearn.model_selection import train_test_split\n",
        "from sklearn.metrics import classification_report\n",
        "import transformers\n",
        "from transformers import GPT2ForSequenceClassification, GPT2TokenizerFast, GPT2Config\n",
        "\n",
        "\n",
        "\n",
        "# specify GPU\n",
        "device = torch.device(\"cuda\")"
      ],
      "execution_count": null,
      "outputs": []
    },
    {
      "cell_type": "code",
      "metadata": {
        "colab": {
          "base_uri": "https://localhost:8080/"
        },
        "id": "9Q9eeywYPJiM",
        "outputId": "6369e4d2-8854-4187-f773-8ecf3e869a0b"
      },
      "source": [
        "from google.colab import drive\n",
        "drive.mount(\"/content/gdrive\")"
      ],
      "execution_count": null,
      "outputs": [
        {
          "output_type": "stream",
          "name": "stdout",
          "text": [
            "Drive already mounted at /content/gdrive; to attempt to forcibly remount, call drive.mount(\"/content/gdrive\", force_remount=True).\n"
          ]
        }
      ]
    },
    {
      "cell_type": "markdown",
      "metadata": {
        "id": "kKd-Tj3hOMsZ"
      },
      "source": [
        "# Load Dataset"
      ]
    },
    {
      "cell_type": "code",
      "metadata": {
        "colab": {
          "base_uri": "https://localhost:8080/",
          "height": 206
        },
        "id": "cwJrQFQgN_BE",
        "outputId": "ae2cca80-2260-48c2-aa47-9fe5fa322396"
      },
      "source": [
        "df = pd.read_excel(\"/content/gdrive/MyDrive/BERT fine tuning/Dataset/z_reddit_dataset.xlsx\")\n",
        "df.head()"
      ],
      "execution_count": null,
      "outputs": [
        {
          "output_type": "execute_result",
          "data": {
            "text/html": [
              "<div>\n",
              "<style scoped>\n",
              "    .dataframe tbody tr th:only-of-type {\n",
              "        vertical-align: middle;\n",
              "    }\n",
              "\n",
              "    .dataframe tbody tr th {\n",
              "        vertical-align: top;\n",
              "    }\n",
              "\n",
              "    .dataframe thead th {\n",
              "        text-align: right;\n",
              "    }\n",
              "</style>\n",
              "<table border=\"1\" class=\"dataframe\">\n",
              "  <thead>\n",
              "    <tr style=\"text-align: right;\">\n",
              "      <th></th>\n",
              "      <th>class</th>\n",
              "      <th>text</th>\n",
              "    </tr>\n",
              "  </thead>\n",
              "  <tbody>\n",
              "    <tr>\n",
              "      <th>0</th>\n",
              "      <td>control</td>\n",
              "      <td>\"Bi women have it easier than bi men\". You ca...</td>\n",
              "    </tr>\n",
              "    <tr>\n",
              "      <th>1</th>\n",
              "      <td>control</td>\n",
              "      <td>Just took five more and added them to the album.</td>\n",
              "    </tr>\n",
              "    <tr>\n",
              "      <th>2</th>\n",
              "      <td>control</td>\n",
              "      <td>LO was six months yesterday. He is sitting up ...</td>\n",
              "    </tr>\n",
              "    <tr>\n",
              "      <th>3</th>\n",
              "      <td>control</td>\n",
              "      <td>Send emails and make a thread. There is most l...</td>\n",
              "    </tr>\n",
              "    <tr>\n",
              "      <th>4</th>\n",
              "      <td>patient</td>\n",
              "      <td>You are not the problem. If you are 18 you don...</td>\n",
              "    </tr>\n",
              "  </tbody>\n",
              "</table>\n",
              "</div>"
            ],
            "text/plain": [
              "     class                                               text\n",
              "0  control   \"Bi women have it easier than bi men\". You ca...\n",
              "1  control   Just took five more and added them to the album.\n",
              "2  control  LO was six months yesterday. He is sitting up ...\n",
              "3  control  Send emails and make a thread. There is most l...\n",
              "4  patient  You are not the problem. If you are 18 you don..."
            ]
          },
          "metadata": {},
          "execution_count": 28
        }
      ]
    },
    {
      "cell_type": "code",
      "metadata": {
        "colab": {
          "base_uri": "https://localhost:8080/"
        },
        "id": "fzPPOrVQWiW5",
        "outputId": "07703eaf-2af9-4dc2-ba00-d91bb4cef151"
      },
      "source": [
        "df.shape"
      ],
      "execution_count": null,
      "outputs": [
        {
          "output_type": "execute_result",
          "data": {
            "text/plain": [
              "(86522, 2)"
            ]
          },
          "metadata": {},
          "execution_count": 29
        }
      ]
    },
    {
      "cell_type": "code",
      "metadata": {
        "id": "bcUsauuMClXl"
      },
      "source": [
        "df['class'] = df['class'].replace(['patient','control'],[0,1])"
      ],
      "execution_count": null,
      "outputs": []
    },
    {
      "cell_type": "code",
      "metadata": {
        "colab": {
          "base_uri": "https://localhost:8080/"
        },
        "id": "676DPU1BOPdp",
        "outputId": "5a0f2122-1587-4540-b342-fa8f11679910"
      },
      "source": [
        "# check class distribution\n",
        "df['class'].value_counts(normalize = True)"
      ],
      "execution_count": null,
      "outputs": [
        {
          "output_type": "execute_result",
          "data": {
            "text/plain": [
              "1    0.652424\n",
              "0    0.347576\n",
              "Name: class, dtype: float64"
            ]
          },
          "metadata": {},
          "execution_count": 31
        }
      ]
    },
    {
      "cell_type": "markdown",
      "metadata": {
        "id": "MKfWnApvOoE7"
      },
      "source": [
        "# Split train dataset into train, validation and test sets"
      ]
    },
    {
      "cell_type": "code",
      "metadata": {
        "id": "mfhSPF5jOWb7"
      },
      "source": [
        "train_text, val_text, train_labels, val_labels = train_test_split(df['text'].astype('str'), df['class'], \n",
        "                                                                    random_state=2018, \n",
        "                                                                    test_size=0.1, \n",
        "                                                                    stratify=df['class'])\n",
        "\n",
        "# we will use temp_text and temp_labels to create validation and test set\n",
        "# val_text, test_text, val_labels, test_labels = train_test_split(temp_text, temp_labels, \n",
        "#                                                                 random_state=2018, \n",
        "#                                                                 test_size=0.5, \n",
        "#                                                                 stratify=temp_labels)"
      ],
      "execution_count": null,
      "outputs": []
    },
    {
      "cell_type": "markdown",
      "metadata": {
        "id": "n7hsdLoCO7uB"
      },
      "source": [
        "# Import BERT Model and BERT Tokenizer"
      ]
    },
    {
      "cell_type": "code",
      "metadata": {
        "colab": {
          "base_uri": "https://localhost:8080/"
        },
        "id": "S1kY3gZjO2RE",
        "outputId": "c4646c05-09b8-4da8-a5a2-d8ca55743114"
      },
      "source": [
        "# # import BERT-base pretrained model\n",
        "# bert = AutoModel.from_pretrained('gpt2')\n",
        "\n",
        "\n",
        "# # Load the BERT tokenizer\n",
        "# tokenizer = AutoTokenizer.from_pretrained('gpt2')\n",
        "\n",
        "# Load the GPT tokenizer\n",
        "tokenizer = GPT2TokenizerFast.from_pretrained('gpt2')\n",
        "# import GPT pretrained model\n",
        "gpt_config = GPT2Config.from_pretrained('gpt2', num_classes=2, pad_token=tokenizer.eos_token, pad_token_id=tokenizer.eos_token_id)\n",
        "gpt = GPT2ForSequenceClassification.from_pretrained('gpt2', config=gpt_config)\n"
      ],
      "execution_count": null,
      "outputs": [
        {
          "output_type": "stream",
          "name": "stderr",
          "text": [
            "Some weights of GPT2ForSequenceClassification were not initialized from the model checkpoint at gpt2 and are newly initialized: ['score.weight']\n",
            "You should probably TRAIN this model on a down-stream task to be able to use it for predictions and inference.\n"
          ]
        }
      ]
    },
    {
      "cell_type": "code",
      "metadata": {
        "id": "_zOKeOMeO-DT"
      },
      "source": [
        "# # sample data\n",
        "# text = [\"this is a bert model tutorial\", \"we will fine-tune a bert model\"]\n",
        "\n",
        "# # encode text\n",
        "# sent_id = tokenizer.batch_encode_plus(text, padding=True, return_token_type_ids=False)\n",
        "\n",
        "# sample data\n",
        "text = [\"this is a bert model tutorial\", \"we will fine-tune a bert model\"]\n",
        "tokenizer.pad_token = tokenizer.eos_token\n",
        "# encode text\n",
        "sent_id = tokenizer.batch_encode_plus(text, padding=True, return_token_type_ids=False)"
      ],
      "execution_count": null,
      "outputs": []
    },
    {
      "cell_type": "code",
      "metadata": {
        "colab": {
          "base_uri": "https://localhost:8080/"
        },
        "id": "oAH73n39PHLw",
        "outputId": "3d98da12-9003-4e9d-da58-ba943e6344a3"
      },
      "source": [
        "# output\n",
        "print(sent_id)"
      ],
      "execution_count": null,
      "outputs": [
        {
          "output_type": "stream",
          "name": "stdout",
          "text": [
            "{'input_ids': [[5661, 318, 257, 275, 861, 2746, 11808, 50256, 50256, 50256], [732, 481, 3734, 12, 83, 1726, 257, 275, 861, 2746]], 'attention_mask': [[1, 1, 1, 1, 1, 1, 1, 0, 0, 0], [1, 1, 1, 1, 1, 1, 1, 1, 1, 1]]}\n"
          ]
        }
      ]
    },
    {
      "cell_type": "markdown",
      "metadata": {
        "id": "8wIYaWI_Prg8"
      },
      "source": [
        "# Tokenization"
      ]
    },
    {
      "cell_type": "code",
      "metadata": {
        "colab": {
          "base_uri": "https://localhost:8080/",
          "height": 282
        },
        "id": "yKwbpeN_PMiu",
        "outputId": "88078b9d-8946-4039-9fed-2449ca0ac575"
      },
      "source": [
        "# get length of all the messages in the train set\n",
        "seq_len = [len(i.split()) for i in train_text]\n",
        "\n",
        "pd.Series(seq_len).hist(bins = 30)"
      ],
      "execution_count": null,
      "outputs": [
        {
          "output_type": "execute_result",
          "data": {
            "text/plain": [
              "<matplotlib.axes._subplots.AxesSubplot at 0x7f2c081a3f10>"
            ]
          },
          "metadata": {},
          "execution_count": 36
        },
        {
          "output_type": "display_data",
          "data": {
            "image/png": "[encoded data removed]",
            "text/plain": [
              "<Figure size 432x288 with 1 Axes>"
            ]
          },
          "metadata": {
            "needs_background": "light"
          }
        }
      ]
    },
    {
      "cell_type": "code",
      "metadata": {
        "id": "OXcswEIRPvGe"
      },
      "source": [
        "max_seq_len = 200"
      ],
      "execution_count": null,
      "outputs": []
    },
    {
      "cell_type": "code",
      "metadata": {
        "id": "tk5S7DWaP2t6",
        "colab": {
          "base_uri": "https://localhost:8080/"
        },
        "outputId": "808beac1-7469-4e31-dbed-021b36ffe1d0"
      },
      "source": [
        "# tokenize and encode sequences in the training set\n",
        "tokens_train = tokenizer.batch_encode_plus(\n",
        "    train_text.tolist(),\n",
        "    max_length = max_seq_len,\n",
        "    pad_to_max_length=True,\n",
        "    truncation=True,\n",
        "    return_token_type_ids=False\n",
        ")\n",
        "\n",
        "# tokenize and encode sequences in the validation set\n",
        "tokens_val = tokenizer.batch_encode_plus(\n",
        "    val_text.tolist(),\n",
        "    max_length = max_seq_len,\n",
        "    pad_to_max_length=True,\n",
        "    truncation=True,\n",
        "    return_token_type_ids=False\n",
        ")\n",
        "\n",
        "# # tokenize and encode sequences in the test set\n",
        "# tokens_test = tokenizer.batch_encode_plus(\n",
        "#     test_text.tolist(),\n",
        "#     max_length = max_seq_len,\n",
        "#     pad_to_max_length=True,\n",
        "#     truncation=True,\n",
        "#     return_token_type_ids=False\n",
        "# )"
      ],
      "execution_count": null,
      "outputs": [
        {
          "output_type": "stream",
          "name": "stderr",
          "text": [
            "/usr/local/lib/python3.7/dist-packages/transformers/tokenization_utils_base.py:2217: FutureWarning: The `pad_to_max_length` argument is deprecated and will be removed in a future version, use `padding=True` or `padding='longest'` to pad to the longest sequence in the batch, or use `padding='max_length'` to pad to a max length. In this case, you can give a specific length with `max_length` (e.g. `max_length=45`) or leave max_length to None to pad to the maximal input size of the model (e.g. 512 for Bert).\n",
            "  FutureWarning,\n"
          ]
        }
      ]
    },
    {
      "cell_type": "markdown",
      "metadata": {
        "id": "Wsm8bkRZQTw9"
      },
      "source": [
        "# Convert Integer Sequences to Tensors"
      ]
    },
    {
      "cell_type": "code",
      "metadata": {
        "id": "QR-lXwmzQPd6"
      },
      "source": [
        "# for train set\n",
        "train_seq = torch.tensor(tokens_train['input_ids'])\n",
        "train_mask = torch.tensor(tokens_train['attention_mask'])\n",
        "train_y = torch.tensor(train_labels.tolist(), dtype=torch.float32)\n",
        "\n",
        "# for validation set\n",
        "val_seq = torch.tensor(tokens_val['input_ids'])\n",
        "val_mask = torch.tensor(tokens_val['attention_mask'])\n",
        "val_y = torch.tensor(val_labels.tolist(), dtype=torch.float32)\n",
        "\n",
        "# # for test set\n",
        "# test_seq = torch.tensor(tokens_test['input_ids'])\n",
        "# test_mask = torch.tensor(tokens_test['attention_mask'])\n",
        "# test_y = torch.tensor(test_labels.tolist())"
      ],
      "execution_count": null,
      "outputs": []
    },
    {
      "cell_type": "markdown",
      "metadata": {
        "id": "Ov1cOBlcRLuk"
      },
      "source": [
        "# Create DataLoaders"
      ]
    },
    {
      "cell_type": "code",
      "metadata": {
        "id": "qUy9JKFYQYLp"
      },
      "source": [
        "from torch.utils.data import TensorDataset, DataLoader, RandomSampler, SequentialSampler\n",
        "\n",
        "#define a batch size\n",
        "batch_size = 32\n",
        "\n",
        "# wrap tensors\n",
        "train_data = TensorDataset(train_seq, train_mask, train_y)\n",
        "\n",
        "# sampler for sampling the data during training\n",
        "train_sampler = RandomSampler(train_data)\n",
        "\n",
        "# dataLoader for train set\n",
        "train_dataloader = DataLoader(train_data, sampler=train_sampler, batch_size=batch_size)\n",
        "\n",
        "# wrap tensors\n",
        "val_data = TensorDataset(val_seq, val_mask, val_y)\n",
        "\n",
        "# sampler for sampling the data during training\n",
        "val_sampler = SequentialSampler(val_data)\n",
        "\n",
        "# dataLoader for validation set\n",
        "val_dataloader = DataLoader(val_data, sampler = val_sampler, batch_size=batch_size)"
      ],
      "execution_count": null,
      "outputs": []
    },
    {
      "cell_type": "markdown",
      "metadata": {
        "id": "K2HZc5ZYRV28"
      },
      "source": [
        "# Freeze BERT Parameters"
      ]
    },
    {
      "cell_type": "code",
      "metadata": {
        "id": "wHZ0MC00RQA_"
      },
      "source": [
        "# # freeze all the parameters\n",
        "# for param in bert.parameters():\n",
        "#     param.requires_grad = False\n",
        "\n",
        "# freeze all the parameters\n",
        "for name, param in gpt.named_parameters():\n",
        "    if name in ['transformer.ln_f.weight', 'transformer.ln_f.bias', 'score.weight']:\n",
        "        param.requires_grad = True\n",
        "    else:\n",
        "        param.requires_grad = False"
      ],
      "execution_count": null,
      "outputs": []
    },
    {
      "cell_type": "markdown",
      "metadata": {
        "id": "s7ahGBUWRi3X"
      },
      "source": [
        "# Define Model Architecture"
      ]
    },
    {
      "cell_type": "code",
      "metadata": {
        "id": "b3iEtGyYRd0A"
      },
      "source": [
        "class GPT_Arch(nn.Module):\n",
        "\n",
        "    def __init__(self, gpt):\n",
        "      \n",
        "      super(GPT_Arch, self).__init__()\n",
        "\n",
        "      self.gpt = gpt\n",
        "\n",
        "      self.softmax = nn.LogSoftmax(dim=1)\n",
        "\n",
        "    #define the forward pass\n",
        "    def forward(self, sent_id, mask):\n",
        "\n",
        "      #pass the inputs to the model  \n",
        "      x = self.gpt(input_ids=sent_id, attention_mask=mask)\n",
        "\n",
        "      return self.softmax(x[0])"
      ],
      "execution_count": null,
      "outputs": []
    },
    {
      "cell_type": "code",
      "metadata": {
        "id": "cBAJJVuJRliv"
      },
      "source": [
        "# pass the pre-trained BERT to our define architecture\n",
        "model = GPT_Arch(gpt)\n",
        "\n",
        "# push the model to GPU\n",
        "model = model.to(device)"
      ],
      "execution_count": null,
      "outputs": []
    },
    {
      "cell_type": "code",
      "metadata": {
        "id": "taXS0IilRn9J"
      },
      "source": [
        "# optimizer from hugging face transformers\n",
        "from transformers import AdamW\n",
        "\n",
        "# define the optimizer\n",
        "optimizer = AdamW(model.parameters(), lr = 5e-3)"
      ],
      "execution_count": null,
      "outputs": []
    },
    {
      "cell_type": "markdown",
      "metadata": {
        "id": "j9CDpoMQR_rK"
      },
      "source": [
        "# Find Class Weights"
      ]
    },
    {
      "cell_type": "code",
      "metadata": {
        "colab": {
          "base_uri": "https://localhost:8080/"
        },
        "id": "izY5xH5eR7Ur",
        "outputId": "05bf0056-4e03-4677-de67-14c254ed6258"
      },
      "source": [
        "from sklearn.utils.class_weight import compute_class_weight\n",
        "\n",
        "#compute the class weights\n",
        "class_wts = compute_class_weight('balanced', np.unique(train_labels), train_labels)\n",
        "\n",
        "print(class_wts)"
      ],
      "execution_count": null,
      "outputs": [
        {
          "output_type": "stream",
          "name": "stdout",
          "text": [
            "[1.43855533 0.76636682]\n"
          ]
        }
      ]
    },
    {
      "cell_type": "code",
      "metadata": {
        "id": "r1WvfY2vSGKi"
      },
      "source": [
        "# convert class weights to tensor\n",
        "weights= torch.tensor(class_wts,dtype=torch.float)\n",
        "weights = weights.to(device)\n",
        "\n",
        "# loss function\n",
        "cross_entropy  = nn.NLLLoss(weight=weights) \n",
        "\n",
        "# number of training epochs\n",
        "epochs = 4"
      ],
      "execution_count": null,
      "outputs": []
    },
    {
      "cell_type": "markdown",
      "metadata": {
        "id": "My4CA0qaShLq"
      },
      "source": [
        "# Fine-Tune BERT"
      ]
    },
    {
      "cell_type": "code",
      "metadata": {
        "id": "rskLk8R_SahS"
      },
      "source": [
        "# function to train the model\n",
        "def train():\n",
        "  \n",
        "  model.train()\n",
        "\n",
        "  total_loss, total_accuracy = 0, 0\n",
        "  \n",
        "  # empty list to save model predictions\n",
        "  total_preds=[]\n",
        "  \n",
        "  # iterate over batches\n",
        "  for step,batch in enumerate(train_dataloader):\n",
        "    \n",
        "    # progress update after every 50 batches.\n",
        "    if step % 50 == 0 and not step == 0:\n",
        "      print('  Batch {:>5,}  of  {:>5,}.'.format(step, len(train_dataloader)))\n",
        "\n",
        "    # push the batch to gpu\n",
        "    batch = [r.to(device) for r in batch]\n",
        " \n",
        "    sent_id, mask, labels = batch\n",
        "\n",
        "    # clear previously calculated gradients \n",
        "    model.zero_grad()        \n",
        "\n",
        "    # get model predictions for the current batch\n",
        "    preds = model(sent_id, mask)\n",
        "    # compute the loss between actual and predicted values\n",
        "    loss = cross_entropy(preds, labels.long())\n",
        "\n",
        "    # add on to the total loss\n",
        "    total_loss = total_loss + loss.item()\n",
        "\n",
        "    # backward pass to calculate the gradients\n",
        "    loss.backward()\n",
        "\n",
        "    # clip the the gradients to 1.0. It helps in preventing the exploding gradient problem\n",
        "    torch.nn.utils.clip_grad_norm_(model.parameters(), 1.0)\n",
        "\n",
        "    # update parameters\n",
        "    optimizer.step()\n",
        "\n",
        "    # model predictions are stored on GPU. So, push it to CPU\n",
        "    preds=preds.detach().cpu().numpy()\n",
        "\n",
        "    # append the model predictions\n",
        "    total_preds.append(preds)\n",
        "\n",
        "  # compute the training loss of the epoch\n",
        "  avg_loss = total_loss / len(train_dataloader)\n",
        "  \n",
        "  # predictions are in the form of (no. of batches, size of batch, no. of classes).\n",
        "  # reshape the predictions in form of (number of samples, no. of classes)\n",
        "  total_preds  = np.concatenate(total_preds, axis=0)\n",
        "\n",
        "  #returns the loss and predictions\n",
        "  return avg_loss, total_preds"
      ],
      "execution_count": null,
      "outputs": []
    },
    {
      "cell_type": "code",
      "metadata": {
        "id": "yGXovFDlSxB5"
      },
      "source": [
        "# function for evaluating the model\n",
        "def evaluate():\n",
        "  \n",
        "  print(\"\\nEvaluating...\")\n",
        "  \n",
        "  # deactivate dropout layers\n",
        "  model.eval()\n",
        "\n",
        "  total_loss, total_accuracy = 0, 0\n",
        "  \n",
        "  # empty list to save the model predictions\n",
        "  total_preds = []\n",
        "\n",
        "  # iterate over batches\n",
        "  for step,batch in enumerate(val_dataloader):\n",
        "    \n",
        "    # Progress update every 50 batches.\n",
        "    if step % 50 == 0 and not step == 0:\n",
        "      \n",
        "      # Calculate elapsed time in minutes.\n",
        "    #   elapsed = format_time(time.time() - t0)\n",
        "            \n",
        "      # Report progress.\n",
        "      print('  Batch {:>5,}  of  {:>5,}.'.format(step, len(val_dataloader)))\n",
        "\n",
        "    # push the batch to gpu\n",
        "    batch = [t.to(device) for t in batch]\n",
        "\n",
        "    sent_id, mask, labels = batch\n",
        "\n",
        "    # deactivate autograd\n",
        "    with torch.no_grad():\n",
        "      \n",
        "      # model predictions\n",
        "      preds = model(sent_id, mask)\n",
        "\n",
        "      # compute the validation loss between actual and predicted values\n",
        "      loss = cross_entropy(preds,labels.long())\n",
        "\n",
        "      total_loss = total_loss + loss.item()\n",
        "\n",
        "      preds = preds.detach().cpu().numpy()\n",
        "\n",
        "      total_preds.append(preds)\n",
        "\n",
        "  # compute the validation loss of the epoch\n",
        "  avg_loss = total_loss / len(val_dataloader) \n",
        "\n",
        "  # reshape the predictions in form of (number of samples, no. of classes)\n",
        "  total_preds  = np.concatenate(total_preds, axis=0)\n",
        "\n",
        "  return avg_loss, total_preds"
      ],
      "execution_count": null,
      "outputs": []
    },
    {
      "cell_type": "code",
      "metadata": {
        "id": "zu631D9UglFk"
      },
      "source": [
        ""
      ],
      "execution_count": null,
      "outputs": []
    },
    {
      "cell_type": "markdown",
      "metadata": {
        "id": "9KZEgxRRTLXG"
      },
      "source": [
        "# Start Model Training"
      ]
    },
    {
      "cell_type": "code",
      "metadata": {
        "colab": {
          "base_uri": "https://localhost:8080/"
        },
        "id": "k1USGTntS3TS",
        "outputId": "c9ce3722-50fc-47ad-f8c2-7a617b30e818"
      },
      "source": [
        "# number of training epochs\n",
        "epochs = 4\n",
        "\n",
        "# set initial loss to infinite\n",
        "best_valid_loss = float('inf')\n",
        "\n",
        "# empty lists to store training and validation loss of each epoch\n",
        "train_losses=[]\n",
        "valid_losses=[]\n",
        "\n",
        "#for each epoch\n",
        "for epoch in range(epochs):\n",
        "     \n",
        "    print('\\n Epoch {:} / {:}'.format(epoch + 1, epochs))\n",
        "    \n",
        "    #train model\n",
        "    train_loss, _ = train()\n",
        "    \n",
        "    #evaluate model\n",
        "    valid_loss, _ = evaluate()\n",
        "    \n",
        "    #save the best model\n",
        "    if valid_loss < best_valid_loss:\n",
        "        best_valid_loss = valid_loss\n",
        "        torch.save(model.state_dict(), 'saved_weights.pt')\n",
        "    \n",
        "    # append training and validation loss\n",
        "    train_losses.append(train_loss)\n",
        "    valid_losses.append(valid_loss)\n",
        "    \n",
        "    print(f'\\nTraining Loss: {train_loss:.3f}')\n",
        "    print(f'Validation Loss: {valid_loss:.3f}')"
      ],
      "execution_count": null,
      "outputs": [
        {
          "output_type": "stream",
          "name": "stdout",
          "text": [
            "\n",
            " Epoch 1 / 4\n",
            "  Batch    50  of  2,434.\n",
            "  Batch   100  of  2,434.\n",
            "  Batch   150  of  2,434.\n",
            "  Batch   200  of  2,434.\n",
            "  Batch   250  of  2,434.\n",
            "  Batch   300  of  2,434.\n",
            "  Batch   350  of  2,434.\n",
            "  Batch   400  of  2,434.\n",
            "  Batch   450  of  2,434.\n",
            "  Batch   500  of  2,434.\n",
            "  Batch   550  of  2,434.\n",
            "  Batch   600  of  2,434.\n",
            "  Batch   650  of  2,434.\n",
            "  Batch   700  of  2,434.\n",
            "  Batch   750  of  2,434.\n",
            "  Batch   800  of  2,434.\n",
            "  Batch   850  of  2,434.\n",
            "  Batch   900  of  2,434.\n",
            "  Batch   950  of  2,434.\n",
            "  Batch 1,000  of  2,434.\n",
            "  Batch 1,050  of  2,434.\n",
            "  Batch 1,100  of  2,434.\n",
            "  Batch 1,150  of  2,434.\n",
            "  Batch 1,200  of  2,434.\n",
            "  Batch 1,250  of  2,434.\n",
            "  Batch 1,300  of  2,434.\n",
            "  Batch 1,350  of  2,434.\n",
            "  Batch 1,400  of  2,434.\n",
            "  Batch 1,450  of  2,434.\n",
            "  Batch 1,500  of  2,434.\n",
            "  Batch 1,550  of  2,434.\n",
            "  Batch 1,600  of  2,434.\n",
            "  Batch 1,650  of  2,434.\n",
            "  Batch 1,700  of  2,434.\n",
            "  Batch 1,750  of  2,434.\n",
            "  Batch 1,800  of  2,434.\n",
            "  Batch 1,850  of  2,434.\n",
            "  Batch 1,900  of  2,434.\n",
            "  Batch 1,950  of  2,434.\n",
            "  Batch 2,000  of  2,434.\n",
            "  Batch 2,050  of  2,434.\n",
            "  Batch 2,100  of  2,434.\n",
            "  Batch 2,150  of  2,434.\n",
            "  Batch 2,200  of  2,434.\n",
            "  Batch 2,250  of  2,434.\n",
            "  Batch 2,300  of  2,434.\n",
            "  Batch 2,350  of  2,434.\n",
            "  Batch 2,400  of  2,434.\n",
            "\n",
            "Evaluating...\n",
            "  Batch    50  of    271.\n",
            "  Batch   100  of    271.\n",
            "  Batch   150  of    271.\n",
            "  Batch   200  of    271.\n",
            "  Batch   250  of    271.\n",
            "\n",
            "Training Loss: 0.843\n",
            "Validation Loss: 0.833\n",
            "\n",
            " Epoch 2 / 4\n",
            "  Batch    50  of  2,434.\n",
            "  Batch   100  of  2,434.\n",
            "  Batch   150  of  2,434.\n",
            "  Batch   200  of  2,434.\n",
            "  Batch   250  of  2,434.\n",
            "  Batch   300  of  2,434.\n",
            "  Batch   350  of  2,434.\n",
            "  Batch   400  of  2,434.\n",
            "  Batch   450  of  2,434.\n",
            "  Batch   500  of  2,434.\n",
            "  Batch   550  of  2,434.\n",
            "  Batch   600  of  2,434.\n",
            "  Batch   650  of  2,434.\n",
            "  Batch   700  of  2,434.\n",
            "  Batch   750  of  2,434.\n",
            "  Batch   800  of  2,434.\n",
            "  Batch   850  of  2,434.\n",
            "  Batch   900  of  2,434.\n",
            "  Batch   950  of  2,434.\n",
            "  Batch 1,000  of  2,434.\n",
            "  Batch 1,050  of  2,434.\n",
            "  Batch 1,100  of  2,434.\n",
            "  Batch 1,150  of  2,434.\n",
            "  Batch 1,200  of  2,434.\n",
            "  Batch 1,250  of  2,434.\n",
            "  Batch 1,300  of  2,434.\n",
            "  Batch 1,350  of  2,434.\n",
            "  Batch 1,400  of  2,434.\n",
            "  Batch 1,450  of  2,434.\n",
            "  Batch 1,500  of  2,434.\n",
            "  Batch 1,550  of  2,434.\n",
            "  Batch 1,600  of  2,434.\n",
            "  Batch 1,650  of  2,434.\n",
            "  Batch 1,700  of  2,434.\n",
            "  Batch 1,750  of  2,434.\n",
            "  Batch 1,800  of  2,434.\n",
            "  Batch 1,850  of  2,434.\n",
            "  Batch 1,900  of  2,434.\n",
            "  Batch 1,950  of  2,434.\n",
            "  Batch 2,000  of  2,434.\n",
            "  Batch 2,050  of  2,434.\n",
            "  Batch 2,100  of  2,434.\n",
            "  Batch 2,150  of  2,434.\n",
            "  Batch 2,200  of  2,434.\n",
            "  Batch 2,250  of  2,434.\n",
            "  Batch 2,300  of  2,434.\n",
            "  Batch 2,350  of  2,434.\n",
            "  Batch 2,400  of  2,434.\n",
            "\n",
            "Evaluating...\n",
            "  Batch    50  of    271.\n",
            "  Batch   100  of    271.\n",
            "  Batch   150  of    271.\n",
            "  Batch   200  of    271.\n",
            "  Batch   250  of    271.\n",
            "\n",
            "Training Loss: 0.776\n",
            "Validation Loss: 0.662\n",
            "\n",
            " Epoch 3 / 4\n",
            "  Batch    50  of  2,434.\n",
            "  Batch   100  of  2,434.\n",
            "  Batch   150  of  2,434.\n",
            "  Batch   200  of  2,434.\n",
            "  Batch   250  of  2,434.\n",
            "  Batch   300  of  2,434.\n",
            "  Batch   350  of  2,434.\n",
            "  Batch   400  of  2,434.\n",
            "  Batch   450  of  2,434.\n",
            "  Batch   500  of  2,434.\n",
            "  Batch   550  of  2,434.\n",
            "  Batch   600  of  2,434.\n",
            "  Batch   650  of  2,434.\n",
            "  Batch   700  of  2,434.\n",
            "  Batch   750  of  2,434.\n",
            "  Batch   800  of  2,434.\n",
            "  Batch   850  of  2,434.\n",
            "  Batch   900  of  2,434.\n",
            "  Batch   950  of  2,434.\n",
            "  Batch 1,000  of  2,434.\n",
            "  Batch 1,050  of  2,434.\n",
            "  Batch 1,100  of  2,434.\n",
            "  Batch 1,150  of  2,434.\n",
            "  Batch 1,200  of  2,434.\n",
            "  Batch 1,250  of  2,434.\n",
            "  Batch 1,300  of  2,434.\n",
            "  Batch 1,350  of  2,434.\n",
            "  Batch 1,400  of  2,434.\n",
            "  Batch 1,450  of  2,434.\n",
            "  Batch 1,500  of  2,434.\n",
            "  Batch 1,550  of  2,434.\n",
            "  Batch 1,600  of  2,434.\n",
            "  Batch 1,650  of  2,434.\n",
            "  Batch 1,700  of  2,434.\n",
            "  Batch 1,750  of  2,434.\n",
            "  Batch 1,800  of  2,434.\n",
            "  Batch 1,850  of  2,434.\n",
            "  Batch 1,900  of  2,434.\n",
            "  Batch 1,950  of  2,434.\n",
            "  Batch 2,000  of  2,434.\n",
            "  Batch 2,050  of  2,434.\n",
            "  Batch 2,100  of  2,434.\n",
            "  Batch 2,150  of  2,434.\n",
            "  Batch 2,200  of  2,434.\n",
            "  Batch 2,250  of  2,434.\n",
            "  Batch 2,300  of  2,434.\n",
            "  Batch 2,350  of  2,434.\n",
            "  Batch 2,400  of  2,434.\n",
            "\n",
            "Evaluating...\n",
            "  Batch    50  of    271.\n",
            "  Batch   100  of    271.\n",
            "  Batch   150  of    271.\n",
            "  Batch   200  of    271.\n",
            "  Batch   250  of    271.\n",
            "\n",
            "Training Loss: 0.696\n",
            "Validation Loss: 0.642\n",
            "\n",
            " Epoch 4 / 4\n",
            "  Batch    50  of  2,434.\n",
            "  Batch   100  of  2,434.\n",
            "  Batch   150  of  2,434.\n",
            "  Batch   200  of  2,434.\n",
            "  Batch   250  of  2,434.\n",
            "  Batch   300  of  2,434.\n",
            "  Batch   350  of  2,434.\n",
            "  Batch   400  of  2,434.\n",
            "  Batch   450  of  2,434.\n",
            "  Batch   500  of  2,434.\n",
            "  Batch   550  of  2,434.\n",
            "  Batch   600  of  2,434.\n",
            "  Batch   650  of  2,434.\n",
            "  Batch   700  of  2,434.\n",
            "  Batch   750  of  2,434.\n",
            "  Batch   800  of  2,434.\n",
            "  Batch   850  of  2,434.\n",
            "  Batch   900  of  2,434.\n",
            "  Batch   950  of  2,434.\n",
            "  Batch 1,000  of  2,434.\n",
            "  Batch 1,050  of  2,434.\n",
            "  Batch 1,100  of  2,434.\n",
            "  Batch 1,150  of  2,434.\n",
            "  Batch 1,200  of  2,434.\n",
            "  Batch 1,250  of  2,434.\n",
            "  Batch 1,300  of  2,434.\n",
            "  Batch 1,350  of  2,434.\n",
            "  Batch 1,400  of  2,434.\n",
            "  Batch 1,450  of  2,434.\n",
            "  Batch 1,500  of  2,434.\n",
            "  Batch 1,550  of  2,434.\n",
            "  Batch 1,600  of  2,434.\n",
            "  Batch 1,650  of  2,434.\n",
            "  Batch 1,700  of  2,434.\n",
            "  Batch 1,750  of  2,434.\n",
            "  Batch 1,800  of  2,434.\n",
            "  Batch 1,850  of  2,434.\n",
            "  Batch 1,900  of  2,434.\n",
            "  Batch 1,950  of  2,434.\n",
            "  Batch 2,000  of  2,434.\n",
            "  Batch 2,050  of  2,434.\n",
            "  Batch 2,100  of  2,434.\n",
            "  Batch 2,150  of  2,434.\n",
            "  Batch 2,200  of  2,434.\n",
            "  Batch 2,250  of  2,434.\n",
            "  Batch 2,300  of  2,434.\n",
            "  Batch 2,350  of  2,434.\n",
            "  Batch 2,400  of  2,434.\n",
            "\n",
            "Evaluating...\n",
            "  Batch    50  of    271.\n",
            "  Batch   100  of    271.\n",
            "  Batch   150  of    271.\n",
            "  Batch   200  of    271.\n",
            "  Batch   250  of    271.\n",
            "\n",
            "Training Loss: 0.655\n",
            "Validation Loss: 0.606\n"
          ]
        }
      ]
    },
    {
      "cell_type": "code",
      "metadata": {
        "id": "4G0_EA8EF0b9"
      },
      "source": [
        "%cp /content/saved_weights.pt /content/gdrive/MyDrive\n"
      ],
      "execution_count": null,
      "outputs": []
    },
    {
      "cell_type": "markdown",
      "metadata": {
        "id": "_yrhUc9kTI5a"
      },
      "source": [
        "# Load Saved Model"
      ]
    },
    {
      "cell_type": "code",
      "metadata": {
        "colab": {
          "base_uri": "https://localhost:8080/"
        },
        "id": "OacxUyizS8d1",
        "outputId": "cca210f8-357a-4720-ecc3-68b3693d1a21"
      },
      "source": [
        "#load weights of best model\n",
        "path = 'saved_weights.pt'\n",
        "model.load_state_dict(torch.load(path))"
      ],
      "execution_count": null,
      "outputs": [
        {
          "output_type": "execute_result",
          "data": {
            "text/plain": [
              "<All keys matched successfully>"
            ]
          },
          "metadata": {},
          "execution_count": 51
        }
      ]
    },
    {
      "cell_type": "markdown",
      "metadata": {
        "id": "x4SVftkkTZXA"
      },
      "source": [
        "## Get Predictions for Test Data"
      ]
    },
    {
      "cell_type": "code",
      "metadata": {
        "id": "NZl0SZmFTRQA",
        "colab": {
          "base_uri": "https://localhost:8080/"
        },
        "outputId": "34bb0288-97ae-4118-bcd3-1e43c07bcba7"
      },
      "source": [
        "# get predictions for test data\n",
        "model.eval()\n",
        "with torch.no_grad():\n",
        "  preds = evaluate()[1]\n",
        "  # preds = model(val_seq.to(device), val_mask.to(device))\n",
        "  # preds = preds.detach().cpu().numpy()"
      ],
      "execution_count": null,
      "outputs": [
        {
          "output_type": "stream",
          "name": "stdout",
          "text": [
            "\n",
            "Evaluating...\n",
            "  Batch    50  of    271.\n",
            "  Batch   100  of    271.\n",
            "  Batch   150  of    271.\n",
            "  Batch   200  of    271.\n",
            "  Batch   250  of    271.\n"
          ]
        }
      ]
    },
    {
      "cell_type": "code",
      "metadata": {
        "colab": {
          "base_uri": "https://localhost:8080/"
        },
        "id": "YUKKznD4-O4z",
        "outputId": "3812484b-0b82-4f84-e018-7c0705d80fb9"
      },
      "source": [
        "preds"
      ],
      "execution_count": null,
      "outputs": [
        {
          "output_type": "execute_result",
          "data": {
            "text/plain": [
              "array([[-0.6826679 , -0.70373744],\n",
              "       [-0.6262786 , -0.76480967],\n",
              "       [-0.32416043, -1.2842225 ],\n",
              "       ...,\n",
              "       [-0.5212752 , -0.90081835],\n",
              "       [-2.197933  , -0.11769455],\n",
              "       [-0.39505517, -1.1197631 ]], dtype=float32)"
            ]
          },
          "metadata": {},
          "execution_count": 54
        }
      ]
    },
    {
      "cell_type": "code",
      "metadata": {
        "colab": {
          "base_uri": "https://localhost:8080/"
        },
        "id": "Ms1ObHZxTYSI",
        "outputId": "19595355-8faf-4e1d-ee3f-2149839ad692"
      },
      "source": [
        "# model's performance\n",
        "preds = np.argmax(preds, axis = 1)\n",
        "print(classification_report(val_y, preds))"
      ],
      "execution_count": null,
      "outputs": [
        {
          "output_type": "stream",
          "name": "stdout",
          "text": [
            "              precision    recall  f1-score   support\n",
            "\n",
            "         0.0       0.53      0.63      0.57      3008\n",
            "         1.0       0.78      0.69      0.74      5645\n",
            "\n",
            "    accuracy                           0.67      8653\n",
            "   macro avg       0.65      0.66      0.65      8653\n",
            "weighted avg       0.69      0.67      0.68      8653\n",
            "\n"
          ]
        }
      ]
    },
    {
      "cell_type": "code",
      "metadata": {
        "colab": {
          "base_uri": "https://localhost:8080/",
          "height": 143
        },
        "id": "YqzLS7rHTp4T",
        "outputId": "a4535486-e469-4f84-93b0-684789064e3d"
      },
      "source": [
        "# confusion matrix\n",
        "pd.crosstab(val_y, preds)"
      ],
      "execution_count": null,
      "outputs": [
        {
          "output_type": "execute_result",
          "data": {
            "text/html": [
              "<div>\n",
              "<style scoped>\n",
              "    .dataframe tbody tr th:only-of-type {\n",
              "        vertical-align: middle;\n",
              "    }\n",
              "\n",
              "    .dataframe tbody tr th {\n",
              "        vertical-align: top;\n",
              "    }\n",
              "\n",
              "    .dataframe thead th {\n",
              "        text-align: right;\n",
              "    }\n",
              "</style>\n",
              "<table border=\"1\" class=\"dataframe\">\n",
              "  <thead>\n",
              "    <tr style=\"text-align: right;\">\n",
              "      <th>col_0</th>\n",
              "      <th>0</th>\n",
              "      <th>1</th>\n",
              "    </tr>\n",
              "    <tr>\n",
              "      <th>row_0</th>\n",
              "      <th></th>\n",
              "      <th></th>\n",
              "    </tr>\n",
              "  </thead>\n",
              "  <tbody>\n",
              "    <tr>\n",
              "      <th>0.0</th>\n",
              "      <td>1906</td>\n",
              "      <td>1102</td>\n",
              "    </tr>\n",
              "    <tr>\n",
              "      <th>1.0</th>\n",
              "      <td>1723</td>\n",
              "      <td>3922</td>\n",
              "    </tr>\n",
              "  </tbody>\n",
              "</table>\n",
              "</div>"
            ],
            "text/plain": [
              "col_0     0     1\n",
              "row_0            \n",
              "0.0    1906  1102\n",
              "1.0    1723  3922"
            ]
          },
          "metadata": {},
          "execution_count": 56
        }
      ]
    },
    {
      "cell_type": "code",
      "metadata": {
        "id": "jpX1uTwjUPY6"
      },
      "source": [
        ""
      ],
      "execution_count": null,
      "outputs": []
    }
  ]
}